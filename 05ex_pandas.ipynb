{
 "cells": [
  {
   "cell_type": "markdown",
   "metadata": {},
   "source": [
    "1\\. **Pandas DataFrame**\n",
    "\n",
    "This exercise consists in analyzing a dataset containg timing information from a series of Time-to-Digital-Converters (TDC) implemented in a pair of FPGAs. Each measurement (i.e. each row of the input file) consists of a flag that specifies the type of message ('HEAD', which in this case is always 1), two addresses of the TDC providing the signal ('FPGA' and 'TDC_CHANNEL'), and the timing information ('ORBIT_CNT', 'BX_COUNTER', and 'TDC_MEAS'). Each TDC count corresponds to 25/30 ns, whereas a unit of BX_COUNTER corresponds to 25 ns, and the ORBIT_CNT is increased every `x` BX_COUNTER. This allows to store the time in a similar way to hours, minutes and seconds."
   ]
  },
  {
   "cell_type": "code",
   "execution_count": 10,
   "metadata": {},
   "outputs": [
    {
     "name": "stdout",
     "output_type": "stream",
     "text": [
      "--2023-11-19 10:49:52--  https://www.dropbox.com/s/xvjzaxzz3ysphme/data_000637.txt\n",
      "Resolving www.dropbox.com... 162.125.69.18\n",
      "Connecting to www.dropbox.com|162.125.69.18|:443... connected.\n",
      "HTTP request sent, awaiting response... 302 Found\n",
      "Location: /s/raw/xvjzaxzz3ysphme/data_000637.txt [following]\n",
      "--2023-11-19 10:49:52--  https://www.dropbox.com/s/raw/xvjzaxzz3ysphme/data_000637.txt\n",
      "Reusing existing connection to www.dropbox.com:443.\n",
      "HTTP request sent, awaiting response... 302 Found\n",
      "Location: https://uc9f4b7346d94af2bc360cff1cfd.dl.dropboxusercontent.com/cd/0/inline/CH1BgftvMsyxHpIM8Bq8-nrLJqxB9cMiVYBoss1fd71Iiq-0imlV_ub2CTZaOkq4sd5y_jJDj3A0pFS-_vmbrdZV8i2VawWZrld9uzcZP0PK5CtNfDQL28-5mjV4vLGgJYk/file# [following]\n",
      "--2023-11-19 10:49:52--  https://uc9f4b7346d94af2bc360cff1cfd.dl.dropboxusercontent.com/cd/0/inline/CH1BgftvMsyxHpIM8Bq8-nrLJqxB9cMiVYBoss1fd71Iiq-0imlV_ub2CTZaOkq4sd5y_jJDj3A0pFS-_vmbrdZV8i2VawWZrld9uzcZP0PK5CtNfDQL28-5mjV4vLGgJYk/file\n",
      "Resolving uc9f4b7346d94af2bc360cff1cfd.dl.dropboxusercontent.com... 162.125.69.15\n",
      "Connecting to uc9f4b7346d94af2bc360cff1cfd.dl.dropboxusercontent.com|162.125.69.15|:443... connected.\n",
      "HTTP request sent, awaiting response... 200 OK\n",
      "Length: 33179236 (32M) [text/plain]\n",
      "Saving to: './data/data_000637.txt.1'\n",
      "\n",
      "data_000637.txt.1   100%[===================>]  31.64M  9.88MB/s    in 3.2s    \n",
      "\n",
      "2023-11-19 10:49:56 (9.88 MB/s) - './data/data_000637.txt.1' saved [33179236/33179236]\n",
      "\n"
     ]
    }
   ],
   "source": [
    "# If haven't downloaded it yet, please get the data file with wget\n",
    "!wget https://www.dropbox.com/s/xvjzaxzz3ysphme/data_000637.txt -P ./data/"
   ]
  },
  {
   "cell_type": "code",
   "execution_count": 2,
   "metadata": {},
   "outputs": [],
   "source": [
    "import pandas as pd\n",
    "import numpy as np\n",
    "import datetime as dt"
   ]
  },
  {
   "cell_type": "markdown",
   "metadata": {},
   "source": [
    "1\\. Create a Pandas DataFrame reading N rows of the `data/data_000637.txt` dataset. Choose N to be smaller than or equal to the maximum number of rows and larger that 10k (check the documentation)."
   ]
  },
  {
   "cell_type": "code",
   "execution_count": 5,
   "metadata": {},
   "outputs": [
    {
     "data": {
      "text/html": [
       "<div>\n",
       "<style scoped>\n",
       "    .dataframe tbody tr th:only-of-type {\n",
       "        vertical-align: middle;\n",
       "    }\n",
       "\n",
       "    .dataframe tbody tr th {\n",
       "        vertical-align: top;\n",
       "    }\n",
       "\n",
       "    .dataframe thead th {\n",
       "        text-align: right;\n",
       "    }\n",
       "</style>\n",
       "<table border=\"1\" class=\"dataframe\">\n",
       "  <thead>\n",
       "    <tr style=\"text-align: right;\">\n",
       "      <th></th>\n",
       "      <th>HEAD</th>\n",
       "      <th>FPGA</th>\n",
       "      <th>TDC_CHANNEL</th>\n",
       "      <th>ORBIT_CNT</th>\n",
       "      <th>BX_COUNTER</th>\n",
       "      <th>TDC_MEAS</th>\n",
       "    </tr>\n",
       "  </thead>\n",
       "  <tbody>\n",
       "    <tr>\n",
       "      <th>0</th>\n",
       "      <td>1</td>\n",
       "      <td>0</td>\n",
       "      <td>123</td>\n",
       "      <td>3869200167</td>\n",
       "      <td>2374</td>\n",
       "      <td>26</td>\n",
       "    </tr>\n",
       "    <tr>\n",
       "      <th>1</th>\n",
       "      <td>1</td>\n",
       "      <td>0</td>\n",
       "      <td>124</td>\n",
       "      <td>3869200167</td>\n",
       "      <td>2374</td>\n",
       "      <td>27</td>\n",
       "    </tr>\n",
       "    <tr>\n",
       "      <th>2</th>\n",
       "      <td>1</td>\n",
       "      <td>0</td>\n",
       "      <td>63</td>\n",
       "      <td>3869200167</td>\n",
       "      <td>2553</td>\n",
       "      <td>28</td>\n",
       "    </tr>\n",
       "    <tr>\n",
       "      <th>3</th>\n",
       "      <td>1</td>\n",
       "      <td>0</td>\n",
       "      <td>64</td>\n",
       "      <td>3869200167</td>\n",
       "      <td>2558</td>\n",
       "      <td>19</td>\n",
       "    </tr>\n",
       "    <tr>\n",
       "      <th>4</th>\n",
       "      <td>1</td>\n",
       "      <td>0</td>\n",
       "      <td>64</td>\n",
       "      <td>3869200167</td>\n",
       "      <td>2760</td>\n",
       "      <td>25</td>\n",
       "    </tr>\n",
       "    <tr>\n",
       "      <th>...</th>\n",
       "      <td>...</td>\n",
       "      <td>...</td>\n",
       "      <td>...</td>\n",
       "      <td>...</td>\n",
       "      <td>...</td>\n",
       "      <td>...</td>\n",
       "    </tr>\n",
       "    <tr>\n",
       "      <th>655355</th>\n",
       "      <td>1</td>\n",
       "      <td>0</td>\n",
       "      <td>36</td>\n",
       "      <td>3869206669</td>\n",
       "      <td>880</td>\n",
       "      <td>0</td>\n",
       "    </tr>\n",
       "    <tr>\n",
       "      <th>655356</th>\n",
       "      <td>1</td>\n",
       "      <td>0</td>\n",
       "      <td>40</td>\n",
       "      <td>3869206669</td>\n",
       "      <td>878</td>\n",
       "      <td>23</td>\n",
       "    </tr>\n",
       "    <tr>\n",
       "      <th>655357</th>\n",
       "      <td>1</td>\n",
       "      <td>0</td>\n",
       "      <td>124</td>\n",
       "      <td>3869206669</td>\n",
       "      <td>881</td>\n",
       "      <td>2</td>\n",
       "    </tr>\n",
       "    <tr>\n",
       "      <th>655358</th>\n",
       "      <td>1</td>\n",
       "      <td>0</td>\n",
       "      <td>60</td>\n",
       "      <td>3869206669</td>\n",
       "      <td>875</td>\n",
       "      <td>5</td>\n",
       "    </tr>\n",
       "    <tr>\n",
       "      <th>655359</th>\n",
       "      <td>1</td>\n",
       "      <td>0</td>\n",
       "      <td>123</td>\n",
       "      <td>3869206669</td>\n",
       "      <td>888</td>\n",
       "      <td>12</td>\n",
       "    </tr>\n",
       "  </tbody>\n",
       "</table>\n",
       "<p>655360 rows × 6 columns</p>\n",
       "</div>"
      ],
      "text/plain": [
       "        HEAD  FPGA  TDC_CHANNEL   ORBIT_CNT  BX_COUNTER  TDC_MEAS\n",
       "0          1     0          123  3869200167        2374        26\n",
       "1          1     0          124  3869200167        2374        27\n",
       "2          1     0           63  3869200167        2553        28\n",
       "3          1     0           64  3869200167        2558        19\n",
       "4          1     0           64  3869200167        2760        25\n",
       "...      ...   ...          ...         ...         ...       ...\n",
       "655355     1     0           36  3869206669         880         0\n",
       "655356     1     0           40  3869206669         878        23\n",
       "655357     1     0          124  3869206669         881         2\n",
       "655358     1     0           60  3869206669         875         5\n",
       "655359     1     0          123  3869206669         888        12\n",
       "\n",
       "[655360 rows x 6 columns]"
      ]
     },
     "execution_count": 5,
     "metadata": {},
     "output_type": "execute_result"
    }
   ],
   "source": [
    "file_name = \"data/data_000637.txt\"\n",
    "read_data = pd.read_csv(file_name)\n",
    "N = int(read_data.shape[0] / 2)\n",
    "data = read_data.copy()\n",
    "data = data[:N]\n",
    "data"
   ]
  },
  {
   "cell_type": "markdown",
   "metadata": {},
   "source": [
    "2\\. Estimate the number of BX in a ORBIT (the value `x`).\n",
    "\n",
    "*Hint*: check when the BX counter reaches the maximum value before being reset to 0."
   ]
  },
  {
   "cell_type": "code",
   "execution_count": 6,
   "metadata": {},
   "outputs": [
    {
     "name": "stdout",
     "output_type": "stream",
     "text": [
      "The estimated number of Bx in a ORBIT is: 2035.613\n",
      "The estimated number of Bx in a ORBIT is: 3563\n"
     ]
    }
   ],
   "source": [
    "bx_count = data.loc[:,'BX_COUNTER']\n",
    "mylist = np.array([])\n",
    "for i in range(bx_count.shape[0]):\n",
    "    if bx_count[i] == 0:\n",
    "        x = bx_count[i-1]\n",
    "        mylist = np.append(mylist, x)\n",
    "print(\"The estimated number of Bx in a ORBIT is:\", round(mylist.mean(),3))\n",
    "\n",
    "# OR ????\n",
    "\n",
    "x = bx_count.max()\n",
    "print(\"The estimated number of Bx in a ORBIT is:\", x)"
   ]
  },
  {
   "cell_type": "markdown",
   "metadata": {},
   "source": [
    "3\\. Create a new column with the absolute time in ns (as a combination of the other three columns with timing information) since the beginning of the data acquisition, and convert the new column to a Time Series.\n",
    "\n",
    "*Hint:* introduce an offset to the absolute time such that the start of the data acquisition (i.e. the first entry) is zero."
   ]
  },
  {
   "cell_type": "code",
   "execution_count": 7,
   "metadata": {},
   "outputs": [
    {
     "data": {
      "text/html": [
       "<div>\n",
       "<style scoped>\n",
       "    .dataframe tbody tr th:only-of-type {\n",
       "        vertical-align: middle;\n",
       "    }\n",
       "\n",
       "    .dataframe tbody tr th {\n",
       "        vertical-align: top;\n",
       "    }\n",
       "\n",
       "    .dataframe thead th {\n",
       "        text-align: right;\n",
       "    }\n",
       "</style>\n",
       "<table border=\"1\" class=\"dataframe\">\n",
       "  <thead>\n",
       "    <tr style=\"text-align: right;\">\n",
       "      <th></th>\n",
       "      <th>HEAD</th>\n",
       "      <th>FPGA</th>\n",
       "      <th>TDC_CHANNEL</th>\n",
       "      <th>ORBIT_CNT</th>\n",
       "      <th>BX_COUNTER</th>\n",
       "      <th>TDC_MEAS</th>\n",
       "      <th>ABS_TIME</th>\n",
       "      <th>TIME_SERIES</th>\n",
       "    </tr>\n",
       "  </thead>\n",
       "  <tbody>\n",
       "    <tr>\n",
       "      <th>0</th>\n",
       "      <td>1</td>\n",
       "      <td>0</td>\n",
       "      <td>123</td>\n",
       "      <td>3869200167</td>\n",
       "      <td>2374</td>\n",
       "      <td>26</td>\n",
       "      <td>3.446490e+14</td>\n",
       "      <td>1970-01-04 23:44:09.004934896</td>\n",
       "    </tr>\n",
       "    <tr>\n",
       "      <th>1</th>\n",
       "      <td>1</td>\n",
       "      <td>0</td>\n",
       "      <td>124</td>\n",
       "      <td>3869200167</td>\n",
       "      <td>2374</td>\n",
       "      <td>27</td>\n",
       "      <td>3.446490e+14</td>\n",
       "      <td>1970-01-04 23:44:09.004934897</td>\n",
       "    </tr>\n",
       "    <tr>\n",
       "      <th>2</th>\n",
       "      <td>1</td>\n",
       "      <td>0</td>\n",
       "      <td>63</td>\n",
       "      <td>3869200167</td>\n",
       "      <td>2553</td>\n",
       "      <td>28</td>\n",
       "      <td>3.446490e+14</td>\n",
       "      <td>1970-01-04 23:44:09.004939373</td>\n",
       "    </tr>\n",
       "    <tr>\n",
       "      <th>3</th>\n",
       "      <td>1</td>\n",
       "      <td>0</td>\n",
       "      <td>64</td>\n",
       "      <td>3869200167</td>\n",
       "      <td>2558</td>\n",
       "      <td>19</td>\n",
       "      <td>3.446490e+14</td>\n",
       "      <td>1970-01-04 23:44:09.004939490</td>\n",
       "    </tr>\n",
       "    <tr>\n",
       "      <th>4</th>\n",
       "      <td>1</td>\n",
       "      <td>0</td>\n",
       "      <td>64</td>\n",
       "      <td>3869200167</td>\n",
       "      <td>2760</td>\n",
       "      <td>25</td>\n",
       "      <td>3.446490e+14</td>\n",
       "      <td>1970-01-04 23:44:09.004944545</td>\n",
       "    </tr>\n",
       "    <tr>\n",
       "      <th>...</th>\n",
       "      <td>...</td>\n",
       "      <td>...</td>\n",
       "      <td>...</td>\n",
       "      <td>...</td>\n",
       "      <td>...</td>\n",
       "      <td>...</td>\n",
       "      <td>...</td>\n",
       "      <td>...</td>\n",
       "    </tr>\n",
       "    <tr>\n",
       "      <th>655355</th>\n",
       "      <td>1</td>\n",
       "      <td>0</td>\n",
       "      <td>36</td>\n",
       "      <td>3869206669</td>\n",
       "      <td>880</td>\n",
       "      <td>0</td>\n",
       "      <td>3.446496e+14</td>\n",
       "      <td>1970-01-04 23:44:09.584063175</td>\n",
       "    </tr>\n",
       "    <tr>\n",
       "      <th>655356</th>\n",
       "      <td>1</td>\n",
       "      <td>0</td>\n",
       "      <td>40</td>\n",
       "      <td>3869206669</td>\n",
       "      <td>878</td>\n",
       "      <td>23</td>\n",
       "      <td>3.446496e+14</td>\n",
       "      <td>1970-01-04 23:44:09.584063144</td>\n",
       "    </tr>\n",
       "    <tr>\n",
       "      <th>655357</th>\n",
       "      <td>1</td>\n",
       "      <td>0</td>\n",
       "      <td>124</td>\n",
       "      <td>3869206669</td>\n",
       "      <td>881</td>\n",
       "      <td>2</td>\n",
       "      <td>3.446496e+14</td>\n",
       "      <td>1970-01-04 23:44:09.584063201</td>\n",
       "    </tr>\n",
       "    <tr>\n",
       "      <th>655358</th>\n",
       "      <td>1</td>\n",
       "      <td>0</td>\n",
       "      <td>60</td>\n",
       "      <td>3869206669</td>\n",
       "      <td>875</td>\n",
       "      <td>5</td>\n",
       "      <td>3.446496e+14</td>\n",
       "      <td>1970-01-04 23:44:09.584063054</td>\n",
       "    </tr>\n",
       "    <tr>\n",
       "      <th>655359</th>\n",
       "      <td>1</td>\n",
       "      <td>0</td>\n",
       "      <td>123</td>\n",
       "      <td>3869206669</td>\n",
       "      <td>888</td>\n",
       "      <td>12</td>\n",
       "      <td>3.446496e+14</td>\n",
       "      <td>1970-01-04 23:44:09.584063385</td>\n",
       "    </tr>\n",
       "  </tbody>\n",
       "</table>\n",
       "<p>655360 rows × 8 columns</p>\n",
       "</div>"
      ],
      "text/plain": [
       "        HEAD  FPGA  TDC_CHANNEL   ORBIT_CNT  BX_COUNTER  TDC_MEAS  \\\n",
       "0          1     0          123  3869200167        2374        26   \n",
       "1          1     0          124  3869200167        2374        27   \n",
       "2          1     0           63  3869200167        2553        28   \n",
       "3          1     0           64  3869200167        2558        19   \n",
       "4          1     0           64  3869200167        2760        25   \n",
       "...      ...   ...          ...         ...         ...       ...   \n",
       "655355     1     0           36  3869206669         880         0   \n",
       "655356     1     0           40  3869206669         878        23   \n",
       "655357     1     0          124  3869206669         881         2   \n",
       "655358     1     0           60  3869206669         875         5   \n",
       "655359     1     0          123  3869206669         888        12   \n",
       "\n",
       "            ABS_TIME                   TIME_SERIES  \n",
       "0       3.446490e+14 1970-01-04 23:44:09.004934896  \n",
       "1       3.446490e+14 1970-01-04 23:44:09.004934897  \n",
       "2       3.446490e+14 1970-01-04 23:44:09.004939373  \n",
       "3       3.446490e+14 1970-01-04 23:44:09.004939490  \n",
       "4       3.446490e+14 1970-01-04 23:44:09.004944545  \n",
       "...              ...                           ...  \n",
       "655355  3.446496e+14 1970-01-04 23:44:09.584063175  \n",
       "655356  3.446496e+14 1970-01-04 23:44:09.584063144  \n",
       "655357  3.446496e+14 1970-01-04 23:44:09.584063201  \n",
       "655358  3.446496e+14 1970-01-04 23:44:09.584063054  \n",
       "655359  3.446496e+14 1970-01-04 23:44:09.584063385  \n",
       "\n",
       "[655360 rows x 8 columns]"
      ]
     },
     "execution_count": 7,
     "metadata": {},
     "output_type": "execute_result"
    }
   ],
   "source": [
    "data[\"ABS_TIME\"] = (data['TDC_MEAS'] * 25/30) + (data['BX_COUNTER'] * 25) + (data['ORBIT_CNT'] * x * 25)\n",
    "data[\"TIME_SERIES\"] = pd.to_datetime(data[\"ABS_TIME\"], unit='ns')\n",
    "data"
   ]
  },
  {
   "cell_type": "markdown",
   "metadata": {},
   "source": [
    "4\\. Find out the duration of the data taking in hours, minutes and seconds, by using the features of the Time Series. Perform this check reading the whole dataset."
   ]
  },
  {
   "cell_type": "code",
   "execution_count": 8,
   "metadata": {},
   "outputs": [
    {
     "name": "stdout",
     "output_type": "stream",
     "text": [
      "The duration is: 0 days 00:00:00.579128489\n"
     ]
    }
   ],
   "source": [
    "duration = data.at[data.shape[0] - 1, 'TIME_SERIES'] - data.at[0, 'TIME_SERIES']\n",
    "print(\"The duration is:\", duration)"
   ]
  },
  {
   "cell_type": "markdown",
   "metadata": {},
   "source": [
    "5\\. Use the `.groupby()` method to find out the noisy channels, i.e. the TDC channels with most counts (print to screen the top 3 and the corresponding counts)"
   ]
  },
  {
   "cell_type": "code",
   "execution_count": 9,
   "metadata": {},
   "outputs": [
    {
     "data": {
      "text/plain": [
       "TDC_CHANNEL\n",
       "139    54435\n",
       "64     32810\n",
       "63     32178\n",
       "Name: TDC_CHANNEL, dtype: int64"
      ]
     },
     "execution_count": 9,
     "metadata": {},
     "output_type": "execute_result"
    }
   ],
   "source": [
    "noisy_ch = data.groupby('TDC_CHANNEL')['TDC_CHANNEL'].count().sort_values(ascending=False).head(3)\n",
    "noisy_ch"
   ]
  },
  {
   "cell_type": "markdown",
   "metadata": {},
   "source": [
    "6\\. Count the number of non-empty orbits (i.e. the number of orbits with at least one hit)."
   ]
  },
  {
   "cell_type": "code",
   "execution_count": 10,
   "metadata": {
    "scrolled": true
   },
   "outputs": [
    {
     "name": "stdout",
     "output_type": "stream",
     "text": [
      "The lowest orbit has value: [1]\n",
      "So, the number of non-empty orbits is the number of orbits itself: 6499\n"
     ]
    }
   ],
   "source": [
    "counting = data.groupby('ORBIT_CNT')['ORBIT_CNT'].count().sort_values()\n",
    "print(\"The lowest orbit has value:\", counting.head(1).values)\n",
    "print(\"So, the number of non-empty orbits is the number of orbits itself:\", counting.shape[0])"
   ]
  },
  {
   "cell_type": "raw",
   "metadata": {},
   "source": [
    "7\\. Count the number of unique orbits with at least one measurement from TDC_CHANNEL=139."
   ]
  },
  {
   "cell_type": "code",
   "execution_count": 11,
   "metadata": {},
   "outputs": [
    {
     "name": "stdout",
     "output_type": "stream",
     "text": [
      "The number of unique orbits from TDC_CHANNEL=139 is: 6474\n"
     ]
    }
   ],
   "source": [
    "uniq = data.groupby('TDC_CHANNEL')['ORBIT_CNT'].unique()\n",
    "print(\"The number of unique orbits from TDC_CHANNEL=139 is:\", len(uniq[139]))"
   ]
  },
  {
   "cell_type": "markdown",
   "metadata": {},
   "source": [
    "8\\. Create two Series (one for each FPGA) that have the TDC channel as index, and the number of counts for the corresponding TDC channel as values."
   ]
  },
  {
   "cell_type": "code",
   "execution_count": 28,
   "metadata": {
    "scrolled": false
   },
   "outputs": [
    {
     "name": "stdout",
     "output_type": "stream",
     "text": [
      "TDC_CHANNEL\n",
      "1        612\n",
      "2        777\n",
      "3        763\n",
      "4       1168\n",
      "5        725\n",
      "       ...  \n",
      "129        2\n",
      "130       14\n",
      "137       12\n",
      "138       13\n",
      "139    38149\n",
      "Name: TDC_CHANNEL, Length: 124, dtype: int64\n",
      "\n",
      "\n",
      "TDC_CHANNEL\n",
      "1      14169\n",
      "2      16242\n",
      "3      10978\n",
      "4      13106\n",
      "5       7463\n",
      "       ...  \n",
      "129       14\n",
      "130       17\n",
      "137       15\n",
      "138       15\n",
      "139    16286\n",
      "Name: TDC_CHANNEL, Length: 132, dtype: int64\n"
     ]
    }
   ],
   "source": [
    "mask1 = data['FPGA'] == 0\n",
    "mask2 = data['FPGA'] == 1\n",
    "FPGA1 = data[mask1].groupby('TDC_CHANNEL')['TDC_CHANNEL'].count()\n",
    "FPGA2 = data[mask2].groupby('TDC_CHANNEL')['TDC_CHANNEL'].count()\n",
    "print(FPGA1)\n",
    "print(\"\\n\")\n",
    "print(FPGA2)"
   ]
  },
  {
   "cell_type": "markdown",
   "metadata": {},
   "source": [
    "9\\. **Optional:** Create two histograms (one for each FPGA) that show the number of counts for each TDC channel."
   ]
  },
  {
   "cell_type": "code",
   "execution_count": 52,
   "metadata": {},
   "outputs": [
    {
     "data": {
      "image/png": "[encoded data removed]",
      "text/plain": [
       "<Figure size 432x288 with 1 Axes>"
      ]
     },
     "metadata": {
      "needs_background": "light"
     },
     "output_type": "display_data"
    }
   ],
   "source": [
    "import matplotlib.pyplot as plt\n",
    "ax1 = np.linspace(1,len(FPGA1),len(FPGA1))\n",
    "df1 = pd.DataFrame(ax1, index=FPGA1.values)\n",
    "hist = df1.hist()\n",
    "\n",
    "\n"
   ]
  },
  {
   "cell_type": "code",
   "execution_count": null,
   "metadata": {},
   "outputs": [],
   "source": []
  }
 ],
 "metadata": {
  "kernelspec": {
   "display_name": "Python 3 (ipykernel)",
   "language": "python",
   "name": "python3"
  },
  "language_info": {
   "codemirror_mode": {
    "name": "ipython",
    "version": 3
   },
   "file_extension": ".py",
   "mimetype": "text/x-python",
   "name": "python",
   "nbconvert_exporter": "python",
   "pygments_lexer": "ipython3",
   "version": "3.9.7"
  }
 },
 "nbformat": 4,
 "nbformat_minor": 2
}
