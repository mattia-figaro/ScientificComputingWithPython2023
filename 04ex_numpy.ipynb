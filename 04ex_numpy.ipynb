{
 "cells": [
  {
   "cell_type": "markdown",
   "metadata": {},
   "source": [
    "1\\. **Reductions**\n",
    "\n",
    "Find the total mean, and the mean for each row and column of the following matrix:\n",
    "\n",
    "```python\n",
    "m = np.arange(12).reshape((3,4))\n",
    "```"
   ]
  },
  {
   "cell_type": "code",
   "execution_count": 1,
   "metadata": {},
   "outputs": [],
   "source": [
    "import numpy as np\n",
    "import numpy.random as npr\n",
    "import matplotlib.pyplot as plt\n",
    "from matplotlib.patches import Rectangle\n",
    "import pandas as pd\n",
    "import timeit"
   ]
  },
  {
   "cell_type": "code",
   "execution_count": 2,
   "metadata": {},
   "outputs": [
    {
     "name": "stdout",
     "output_type": "stream",
     "text": [
      "[[ 0  1  2  3]\n",
      " [ 4  5  6  7]\n",
      " [ 8  9 10 11]] \n",
      "\n",
      "Total mean: 5.5\n",
      "\n",
      "Mean of row 1: 1.5\n",
      "Mean of row 2: 5.5\n",
      "Mean of row 3: 9.5\n",
      "\n",
      "Mean of column 1: 4.0\n",
      "Mean of column 2: 5.0\n",
      "Mean of column 3: 6.0\n",
      "Mean of column 4: 7.0\n"
     ]
    }
   ],
   "source": [
    "m = np.arange(12).reshape((3,4))\n",
    "print(m, \"\\n\")\n",
    "\n",
    "# number of elements in matrix m \n",
    "num = m.shape[0] * m.shape[1]\n",
    "\n",
    "# total mean\n",
    "sum = 0\n",
    "for i in range(m.shape[0]):\n",
    "    for j in range(m.shape[1]):\n",
    "        sum += m[i,j]\n",
    "print(\"Total mean:\", sum / num)\n",
    "\n",
    "print(\"\")\n",
    "\n",
    "# mean of each row\n",
    "for i in range(m.shape[0]):\n",
    "    sum = 0\n",
    "    for j in range(m.shape[1]):\n",
    "        sum += m[i,j]\n",
    "    print(\"Mean of row\", str(i+1) + \":\", sum / m.shape[1])\n",
    "    \n",
    "print(\"\")\n",
    "    \n",
    "# mean of each column\n",
    "for i in range(m.shape[1]):\n",
    "    sum = 0\n",
    "    for j in range(m.shape[0]):\n",
    "        sum += m[j,i]\n",
    "    print(\"Mean of column\", str(i+1) + \":\", sum / m.shape[0])\n",
    "        "
   ]
  },
  {
   "cell_type": "markdown",
   "metadata": {},
   "source": [
    "2\\. **Outer product**\n",
    "\n",
    "Find the outer product of the following vectors:\n",
    "\n",
    "```python\n",
    "u = np.array([1, 3, 5, 7])\n",
    "v = np.array([2, 4, 6, 8])\n",
    "```\n",
    "\n",
    "Use different methods to do this:\n",
    "\n",
    "   1. Using the function `outer` in numpy\n",
    "   2. Using a nested `for` loop or a list comprehension\n",
    "   3. Using numpy broadcasting operations"
   ]
  },
  {
   "cell_type": "code",
   "execution_count": 3,
   "metadata": {},
   "outputs": [
    {
     "name": "stdout",
     "output_type": "stream",
     "text": [
      "u: [1 3 5 7] \n",
      "\n",
      "v: [2 4 6 8] \n",
      "\n",
      "Using \"outer function \":\n",
      " [[ 2  4  6  8]\n",
      " [ 6 12 18 24]\n",
      " [10 20 30 40]\n",
      " [14 28 42 56]] \n",
      "\n",
      "Using a for loop:\n",
      " [[ 2.  4.  6.  8.]\n",
      " [ 6. 12. 18. 24.]\n",
      " [10. 20. 30. 40.]\n",
      " [14. 28. 42. 56.]] \n",
      "\n",
      "Using a numpy broadcasting operations:\n",
      " [[ 2  4  6  8]\n",
      " [ 6 12 18 24]\n",
      " [10 20 30 40]\n",
      " [14 28 42 56]] \n",
      "\n"
     ]
    }
   ],
   "source": [
    "u = np.array([1, 3, 5, 7])\n",
    "v = np.array([2, 4, 6, 8])\n",
    "print(\"u:\", u, \"\\n\")\n",
    "print(\"v:\", v, \"\\n\")\n",
    "\n",
    "# using function outer in numpy\n",
    "print(\"Using \\\"outer function \\\":\\n\", np.outer(u,v), \"\\n\")\n",
    "\n",
    "# using a for loop\n",
    "m = np.zeros((4,4))\n",
    "for i in range(u.shape[0]):\n",
    "    for j in range(v.shape[0]):\n",
    "        m[i,j] = u[i] * v[j]\n",
    "print(\"Using a for loop:\\n\", m, \"\\n\")\n",
    "\n",
    "# using a numpy broadcasting operations \n",
    "u_1 = u.reshape(4,1) # taking the transpose of u\n",
    "print(\"Using a numpy broadcasting operations:\\n\", u_1 * v, \"\\n\")\n"
   ]
  },
  {
   "cell_type": "markdown",
   "metadata": {},
   "source": [
    "3\\. **Matrix masking**\n",
    "\n",
    "Create a 10 by 6 matrix of float random numbers, distributed between 0 and 3 according to a flat distribution.\n",
    "\n",
    "After creating the matrix, set all entries $< 0.3$ to zero using a mask."
   ]
  },
  {
   "cell_type": "code",
   "execution_count": 7,
   "metadata": {},
   "outputs": [
    {
     "name": "stdout",
     "output_type": "stream",
     "text": [
      "Generated random matrix:\n",
      "\n",
      " [[1.22368659 2.86077325 1.04167464 1.88462428 1.88042085 2.17393487]\n",
      " [0.10599718 0.67807278 0.19211011 1.55208316 1.00460201 2.16129534]\n",
      " [0.373174   1.68505921 0.47946496 0.39264053 2.69162617 1.94948677]\n",
      " [0.92935422 1.08032099 1.73444728 1.00665452 2.49117923 0.41589882]\n",
      " [1.32633768 1.5739435  0.10039127 0.54688329 2.23012233 0.35799934]\n",
      " [1.51639919 0.44307194 2.22806283 0.52566538 2.62299445 0.4718961 ]\n",
      " [0.85962548 1.97982406 2.28677721 0.65528891 0.76628428 0.61397776]\n",
      " [1.60854739 0.36155229 1.02415306 0.61779118 2.3222835  2.28542546]\n",
      " [1.78442645 2.39524146 2.81924761 0.68617088 1.49587693 0.43872061]\n",
      " [0.58807136 0.03006984 1.9551483  2.52730437 1.60087391 1.07760192]] \n",
      "\n",
      "\n",
      "After the mask:\n",
      "\n",
      " [[1.22368659 2.86077325 1.04167464 1.88462428 1.88042085 2.17393487]\n",
      " [0.         0.67807278 0.         1.55208316 1.00460201 2.16129534]\n",
      " [0.373174   1.68505921 0.47946496 0.39264053 2.69162617 1.94948677]\n",
      " [0.92935422 1.08032099 1.73444728 1.00665452 2.49117923 0.41589882]\n",
      " [1.32633768 1.5739435  0.         0.54688329 2.23012233 0.35799934]\n",
      " [1.51639919 0.44307194 2.22806283 0.52566538 2.62299445 0.4718961 ]\n",
      " [0.85962548 1.97982406 2.28677721 0.65528891 0.76628428 0.61397776]\n",
      " [1.60854739 0.36155229 1.02415306 0.61779118 2.3222835  2.28542546]\n",
      " [1.78442645 2.39524146 2.81924761 0.68617088 1.49587693 0.43872061]\n",
      " [0.58807136 0.         1.9551483  2.52730437 1.60087391 1.07760192]]\n"
     ]
    }
   ],
   "source": [
    "# generating the random matrix\n",
    "m = npr.rand(10,6) * 3\n",
    "print(\"Generated random matrix:\\n\\n\", m, \"\\n\\n\")\n",
    "\n",
    "# setting all entries <0.3 to zero\n",
    "m[m < 0.3] = 0\n",
    "print(\"After the mask:\\n\\n\", m)"
   ]
  },
  {
   "cell_type": "markdown",
   "metadata": {},
   "source": [
    "4\\. **Trigonometric functions**\n",
    "\n",
    "Use `np.linspace` to create an array of 100 numbers between $0$ and $2\\pi$ (inclusive).\n",
    "\n",
    "  * Extract every 10th element using the slice notation\n",
    "  * Reverse the array using the slice notation\n",
    "  * Extract elements where the absolute difference between the `sin` and `cos` functions evaluated for that element is $< 0.1$\n",
    "  * **Optional**: make a plot showing the sin and cos functions and indicate where they are close"
   ]
  },
  {
   "cell_type": "code",
   "execution_count": 56,
   "metadata": {},
   "outputs": [
    {
     "name": "stdout",
     "output_type": "stream",
     "text": [
      "The vector is:\n",
      "\n",
      " [0.         0.06346652 0.12693304 0.19039955 0.25386607 0.31733259\n",
      " 0.38079911 0.44426563 0.50773215 0.57119866 0.63466518 0.6981317\n",
      " 0.76159822 0.82506474 0.88853126 0.95199777 1.01546429 1.07893081\n",
      " 1.14239733 1.20586385 1.26933037 1.33279688 1.3962634  1.45972992\n",
      " 1.52319644 1.58666296 1.65012947 1.71359599 1.77706251 1.84052903\n",
      " 1.90399555 1.96746207 2.03092858 2.0943951  2.15786162 2.22132814\n",
      " 2.28479466 2.34826118 2.41172769 2.47519421 2.53866073 2.60212725\n",
      " 2.66559377 2.72906028 2.7925268  2.85599332 2.91945984 2.98292636\n",
      " 3.04639288 3.10985939 3.17332591 3.23679243 3.30025895 3.36372547\n",
      " 3.42719199 3.4906585  3.55412502 3.61759154 3.68105806 3.74452458\n",
      " 3.8079911  3.87145761 3.93492413 3.99839065 4.06185717 4.12532369\n",
      " 4.1887902  4.25225672 4.31572324 4.37918976 4.44265628 4.5061228\n",
      " 4.56958931 4.63305583 4.69652235 4.75998887 4.82345539 4.88692191\n",
      " 4.95038842 5.01385494 5.07732146 5.14078798 5.2042545  5.26772102\n",
      " 5.33118753 5.39465405 5.45812057 5.52158709 5.58505361 5.64852012\n",
      " 5.71198664 5.77545316 5.83891968 5.9023862  5.96585272 6.02931923\n",
      " 6.09278575 6.15625227 6.21971879 6.28318531] \n",
      "\n",
      "\n",
      "Extract every 10th element:\n",
      "\n",
      " [0.57119866 1.20586385 1.84052903 2.47519421 3.10985939 3.74452458\n",
      " 4.37918976 5.01385494 5.64852012 6.28318531] \n",
      "\n",
      "\n",
      "The reverse is:\n",
      "\n",
      " [6.28318531 6.21971879 6.15625227 6.09278575 6.02931923 5.96585272\n",
      " 5.9023862  5.83891968 5.77545316 5.71198664 5.64852012 5.58505361\n",
      " 5.52158709 5.45812057 5.39465405 5.33118753 5.26772102 5.2042545\n",
      " 5.14078798 5.07732146 5.01385494 4.95038842 4.88692191 4.82345539\n",
      " 4.75998887 4.69652235 4.63305583 4.56958931 4.5061228  4.44265628\n",
      " 4.37918976 4.31572324 4.25225672 4.1887902  4.12532369 4.06185717\n",
      " 3.99839065 3.93492413 3.87145761 3.8079911  3.74452458 3.68105806\n",
      " 3.61759154 3.55412502 3.4906585  3.42719199 3.36372547 3.30025895\n",
      " 3.23679243 3.17332591 3.10985939 3.04639288 2.98292636 2.91945984\n",
      " 2.85599332 2.7925268  2.72906028 2.66559377 2.60212725 2.53866073\n",
      " 2.47519421 2.41172769 2.34826118 2.28479466 2.22132814 2.15786162\n",
      " 2.0943951  2.03092858 1.96746207 1.90399555 1.84052903 1.77706251\n",
      " 1.71359599 1.65012947 1.58666296 1.52319644 1.45972992 1.3962634\n",
      " 1.33279688 1.26933037 1.20586385 1.14239733 1.07893081 1.01546429\n",
      " 0.95199777 0.88853126 0.82506474 0.76159822 0.6981317  0.63466518\n",
      " 0.57119866 0.50773215 0.44426563 0.38079911 0.31733259 0.25386607\n",
      " 0.19039955 0.12693304 0.06346652 0.        ] \n",
      "\n",
      "\n",
      "After sin and cos condition:\n",
      "\n",
      " [0.76159822 0.82506474 3.87145761 3.93492413] \n",
      "\n",
      "\n",
      "Plot:\n"
     ]
    },
    {
     "data": {
      "image/png": "[encoded data removed]",
      "text/plain": [
       "<Figure size 432x288 with 1 Axes>"
      ]
     },
     "metadata": {
      "needs_background": "light"
     },
     "output_type": "display_data"
    }
   ],
   "source": [
    "# vector of 100 numbers between 0 and 2*pi\n",
    "v = np.linspace(0, 2*np.pi, 100)\n",
    "print(\"The vector is:\\n\\n\", v, \"\\n\\n\")\n",
    "\n",
    "# extract every 10th element\n",
    "ten = v[9::10]\n",
    "print(\"Extract every 10th element:\\n\\n\", ten, \"\\n\\n\")\n",
    "\n",
    "# reverse the arry\n",
    "reverse = v[::-1]\n",
    "print(\"The reverse is:\\n\\n\", reverse, \"\\n\\n\")\n",
    "\n",
    "# sin and cos condition\n",
    "sc = np.zeros(0)\n",
    "for i in range(v.shape[0]):\n",
    "    #if abs(np.cos(v[i])) - abs(np.sin(v[i])) < 0.1:\n",
    "    if abs(np.cos(v[i]) - np.sin(v[i])) < 0.1:\n",
    "        sc = np.concatenate((sc, np.array([v[i]])))\n",
    "print(\"After sin and cos condition:\\n\\n\", sc, \"\\n\\n\")\n",
    "\n",
    "# plot\n",
    "cos_func = np.cos(v)\n",
    "sin_func = np.sin(v)\n",
    "inter = np.zeros(v.shape[0])\n",
    "for i in range(v.shape[0]):\n",
    "    if abs(sin_func[i] - cos_func[i]) < 0.1 :\n",
    "        inter[i] = 0.5\n",
    "    else:\n",
    "        inter[i] = None\n",
    "        \n",
    "fig, ax = plt.subplots()\n",
    "ax.plot(v, cos_func, 'r-')\n",
    "ax.plot(v, sin_func, 'g-')\n",
    "#add rectangles to plot\n",
    "ax.add_patch(Rectangle((sc[0],np.sin(sc[0])),sc[1]-sc[0],0.05,edgecolor='blue',facecolor='pink',fill=True,lw=5))\n",
    "ax.add_patch(Rectangle((sc[2],np.cos(sc[2])),sc[3]-sc[2],0.05,edgecolor='blue',facecolor='pink',fill=True,lw=5))\n",
    "ax.legend(['cos', 'sin', 'close area'])\n",
    "print(\"Plot:\")\n",
    "plt.show()"
   ]
  },
  {
   "cell_type": "markdown",
   "metadata": {},
   "source": [
    "5\\. **Matrices**\n",
    "\n",
    "Create a matrix that shows the 10 by 10 multiplication table.\n",
    "\n",
    " * Find the trace of the matrix\n",
    " * Extract the anti-diagonal matrix (this should be ```array([10, 18, 24, 28, 30, 30, 28, 24, 18, 10])```)\n",
    " * Extract the diagonal offset by 1 upwards (this should be ```array([ 2,  6, 12, 20, 30, 42, 56, 72, 90])```)"
   ]
  },
  {
   "cell_type": "code",
   "execution_count": 85,
   "metadata": {},
   "outputs": [
    {
     "name": "stdout",
     "output_type": "stream",
     "text": [
      "The 10 by 10 multuplication table is:\n",
      "\n",
      " [[  1   2   3   4   5   6   7   8   9  10]\n",
      " [  2   4   6   8  10  12  14  16  18  20]\n",
      " [  3   6   9  12  15  18  21  24  27  30]\n",
      " [  4   8  12  16  20  24  28  32  36  40]\n",
      " [  5  10  15  20  25  30  35  40  45  50]\n",
      " [  6  12  18  24  30  36  42  48  54  60]\n",
      " [  7  14  21  28  35  42  49  56  63  70]\n",
      " [  8  16  24  32  40  48  56  64  72  80]\n",
      " [  9  18  27  36  45  54  63  72  81  90]\n",
      " [ 10  20  30  40  50  60  70  80  90 100]] \n",
      "\n",
      "\n",
      "The trace is: 385 \n",
      "\n",
      "The anti-diagonal is: [10 18 24 28 30 30 28 24 18 10] \n",
      "\n",
      "The offset diagonal is: [ 2  6 12 20 30 42 56 72 90]\n"
     ]
    }
   ],
   "source": [
    "# 10 by 10 multiplication table\n",
    "u = np.array(range(1,11))\n",
    "v = u.reshape(10,1)\n",
    "m = v * u\n",
    "print(\"The 10 by 10 multuplication table is:\\n\\n\", m, \"\\n\\n\")\n",
    "\n",
    "# find the trace\n",
    "trace = 0\n",
    "for i in range(10):\n",
    "    trace += m[i,i]\n",
    "# Or: trace = np.trace(m)\n",
    "print(\"The trace is:\", trace, \"\\n\")\n",
    "\n",
    "# find the anti-diagonal\n",
    "mylist = []\n",
    "for i in range(10):\n",
    "    mylist.append(m[i,9-i])\n",
    "ant_diag = np.array(mylist)\n",
    "# Or: ant_diag = np.diagonal(m[::-1])\n",
    "print(\"The anti-diagonal is:\", ant_diag, \"\\n\")\n",
    "\n",
    "# find the offset diagonal\n",
    "mylist = []\n",
    "for i in range(9):\n",
    "    mylist.append(m[i,i+1])\n",
    "off_diag = np.array(mylist)\n",
    "# Or: off_diag = np.diagonal(m[0:9,1:10])\n",
    "print(\"The offset diagonal is:\", off_diag)"
   ]
  },
  {
   "cell_type": "markdown",
   "metadata": {},
   "source": [
    "6\\. **Broadcasting**\n",
    "\n",
    "Use broadcasting to create a grid of distances.\n",
    "\n",
    "Route 66 crosses the following cities in the US: Chicago, Springfield, Saint-Louis, Tulsa, Oklahoma City, Amarillo, Santa Fe, Albuquerque, Flagstaff, Los Angeles.\n",
    "\n",
    "The corresponding positions in miles are: 0, 198, 303, 736, 871, 1175, 1475, 1544, 1913, 2448\n",
    "\n",
    "  * Build a 2D grid of distances among each city along Route 66\n",
    "  * Convert the distances in km"
   ]
  },
  {
   "cell_type": "code",
   "execution_count": null,
   "metadata": {},
   "outputs": [],
   "source": [
    "# initial data\n",
    "cities = [\"Chicago \", \"Springfield \", \"Saint-Louis \", \"Tulsa \", \"Oklahoma City \", \"Amarillo \", \"Santa Fe \", \"Albuquerque \", \"Flagstaff \", \"Los Angeles\"]\n",
    "miles = np.array([0, 198, 303, 736, 871, 1175, 1475, 1544, 1913, 2448])\n",
    "km = miles * 1.60934\n",
    "\n",
    "# grid computation\n",
    "route66_miles = abs(miles.reshape(10,1) - miles)\n",
    "route66_km = abs(km.reshape(10,1) - km)\n",
    "\n",
    "# print the results\n",
    "print(\"Grid in miles:\\n\")\n",
    "print(pd.DataFrame(route66_miles, index=cities, columns=cities))\n",
    "print(\"\\n\\n\\nGrid in km:\\n\")\n",
    "print(pd.DataFrame(route66_km, index=cities, columns=cities))"
   ]
  },
  {
   "cell_type": "markdown",
   "metadata": {},
   "source": [
    "7\\. **Prime numbers sieve**\n",
    "\n",
    "Compute the prime numbers in the 0-N (start with N=99) range with a sieve (mask).\n",
    "\n",
    "  * Constract a shape (N,) boolean array, which is the mask\n",
    "  * Identify the multiples of each number starting from 2 and set accordingly the corresponding mask element\n",
    "  * Apply the mask to obtain an array of ordered prime numbers\n",
    "  * Check the performances (with `timeit`); how does it scale with N?\n",
    "  * Implement the optimization suggested in the [sieve of Eratosthenes](https://en.wikipedia.org/wiki/Sieve_of_Eratosthenes)"
   ]
  },
  {
   "cell_type": "code",
   "execution_count": 10,
   "metadata": {},
   "outputs": [
    {
     "name": "stdout",
     "output_type": "stream",
     "text": [
      "Standard method needs 0.001638 sec, and the result is:\n",
      "\n",
      " [ 1  2  3  5  7 11 13 17 19 23 29 31 37 41 43 47 53 59 61 67 71 73 79 83\n",
      " 89 97] \n",
      "\n",
      "\n",
      "N vs time:\n"
     ]
    },
    {
     "data": {
      "image/png": "[encoded data removed]",
      "text/plain": [
       "<Figure size 432x288 with 1 Axes>"
      ]
     },
     "metadata": {
      "needs_background": "light"
     },
     "output_type": "display_data"
    },
    {
     "name": "stdout",
     "output_type": "stream",
     "text": [
      "\n",
      "Optimized method needs 0.000286 sec, and the result is:\n",
      "\n",
      " [ 1  2  3  5  7 11 13 17 19 23 29 31 37 41 43 47 53 59 61 67 71 73 79 83\n",
      " 89 97]\n"
     ]
    }
   ],
   "source": [
    "# standard function to compute the first N prime numbers\n",
    "def prime_comp(N):\n",
    "    mask = np.ones(N, dtype=bool)\n",
    "    # computing the mask \n",
    "    for i in range(2, N+1):\n",
    "        for j in range(2, N+1):\n",
    "            if j % i == 0 and i != j:\n",
    "                mask[j-1] = False\n",
    "    return mask \n",
    "\n",
    "# computing the prime numbers\n",
    "start_time = timeit.default_timer()\n",
    "N = 99\n",
    "numbers = np.array(range(1,N+1))\n",
    "mask = prime_comp(N)\n",
    "primes = numbers[mask]\n",
    "end_time = timeit.default_timer()\n",
    "time = end_time - start_time\n",
    "print(\"Standard method needs\", round(time, 6), \"sec, and the result is:\\n\\n\", primes, \"\\n\\n\")\n",
    "\n",
    "# how does the time scale with N?\n",
    "# looking to the graph we can see that the computation time\n",
    "# grows fairly quickly when we increase the size of the \n",
    "# instance. of course, using \"prime_comp(N)\" function it is\n",
    "# proportional to N^2\n",
    "mytime = []\n",
    "end = 15\n",
    "for i in range(1,end):\n",
    "    start_time = timeit.default_timer()\n",
    "    N1 = 99*i\n",
    "    mask = prime_comp(N1)\n",
    "    end_time = timeit.default_timer()\n",
    "    time = end_time - start_time\n",
    "    mytime.append(time)\n",
    "fig, ax = plt.subplots()\n",
    "ax.plot(range(1,end), mytime, 'b-')\n",
    "plt.xlabel(\"Integer multple of \" + str(N))\n",
    "plt.ylabel(\"Time [sec]\")\n",
    "ax.legend(['N vs time'])\n",
    "print(\"N vs time:\")\n",
    "plt.show()\n",
    "\n",
    "def opt_prime(N):\n",
    "    mask = np.ones(N, dtype=bool)\n",
    "    i = 2 # index of prime numbers \n",
    "    while i < N:\n",
    "        for j in range(4,N+1):\n",
    "            if j % i == 0 and i != j:\n",
    "                mask[j-1] = False\n",
    "        flag = True\n",
    "        # searching the next prime\n",
    "        while flag and i < N:\n",
    "            i += 1\n",
    "            if mask[i-1] == True:\n",
    "                flag = False\n",
    "    return mask\n",
    "\n",
    "# computing the prime numbers with optimized method\n",
    "start_time = timeit.default_timer()\n",
    "N = 99\n",
    "numbers = np.array(range(1,N+1))\n",
    "mask = opt_prime(N)\n",
    "primes = numbers[mask]\n",
    "end_time = timeit.default_timer()\n",
    "time = end_time - start_time\n",
    "print(\"\\nOptimized method needs\", round(time, 6), \"sec, and the result is:\\n\\n\", primes)"
   ]
  },
  {
   "cell_type": "markdown",
   "metadata": {},
   "source": [
    "8\\. **Diffusion using random walk**\n",
    "\n",
    "Consider a simple random walk process: at each step in time, a walker jumps right or left (+1 or -1) with equal probability. The goal is to find the typical distance from the origin of many random walkers after a given amount of time.\n",
    "\n",
    "*Hint*: create a 2D array where each row represents a walker, and each column represents a time step.\n",
    "\n",
    "  * Take 1000 walkers and let them walk for 200 steps\n",
    "  * Use `randint` to create a 2D array of size $walkers \\times steps$ with values -1 or 1\n",
    "  * Calculate the walking distances for each walker (e.g. by summing the elements in each row)\n",
    "  * Take the square of the previously-obtained array (element-wise)\n",
    "  * Compute the mean of the squared distances at each step (i.e. the mean along the columns)\n",
    "  * **Optional**: plot the average distances ($\\sqrt(distance^2)$) as a function of time (step)"
   ]
  },
  {
   "cell_type": "code",
   "execution_count": 63,
   "metadata": {},
   "outputs": [
    {
     "name": "stdout",
     "output_type": "stream",
     "text": [
      "Random walk matrix: \n",
      "\n",
      " [[-1  1 -1 ...  1  1  1]\n",
      " [-1 -1  1 ... -1  1 -1]\n",
      " [ 1 -1  1 ... -1  1  1]\n",
      " ...\n",
      " [ 1 -1 -1 ...  1 -1 -1]\n",
      " [-1  1 -1 ...  1  1 -1]\n",
      " [ 1 -1 -1 ... -1 -1  1]] \n",
      "\n",
      "\n",
      "The distances at each step for all the walkers are:\n",
      "\n",
      " [[ -1   0  -1 ... -12 -11 -10]\n",
      " [ -1  -2  -1 ...   4   5   4]\n",
      " [  1   0   1 ...  24  25  26]\n",
      " ...\n",
      " [  1   0  -1 ... -18 -19 -20]\n",
      " [ -1   0  -1 ... -24 -23 -24]\n",
      " [  1   0  -1 ... -20 -21 -20]] \n",
      "\n",
      "\n",
      "The squared distances at each step for all the walkers are:\n",
      "\n",
      " [[  1   0   1 ... 144 121 100]\n",
      " [  1   4   1 ...  16  25  16]\n",
      " [  1   0   1 ... 576 625 676]\n",
      " ...\n",
      " [  1   0   1 ... 324 361 400]\n",
      " [  1   0   1 ... 576 529 576]\n",
      " [  1   0   1 ... 400 441 400]] \n",
      "\n",
      "\n",
      "The mean of square distances of each step is:\n",
      "\n",
      " [  1.      1.948   2.984   3.956   4.784   5.528   6.592   7.596   8.448\n",
      "   9.764  10.568  11.412  12.272  13.24   14.376  15.364  17.016  17.852\n",
      "  18.728  20.228  21.416  21.936  23.376  24.236  25.12   26.316  27.056\n",
      "  27.804  28.568  29.636  30.408  31.276  32.744  33.564  34.272  35.684\n",
      "  36.04   37.716  39.376  40.148  41.088  42.22   43.264  44.148  45.016\n",
      "  45.756  46.752  48.068  48.824  49.768  50.12   51.888  53.072  53.592\n",
      "  54.712  55.452  56.488  57.704  57.968  59.764  60.608  61.488  62.464\n",
      "  63.124  63.576  64.296  66.216  67.724  68.176  68.736  69.896  70.416\n",
      "  71.328  73.032  74.112  75.264  77.104  78.232  79.528  80.656  81.872\n",
      "  83.436  84.736  85.332  85.464  86.236  86.344  87.98   88.816  88.704\n",
      "  89.944  90.288  90.432  92.212  92.632  94.296  95.36   96.536  96.728\n",
      "  97.296  98.816 101.072 102.128 101.768 103.16  103.504 104.104 105.708\n",
      " 107.056 107.984 108.032 109.388 111.32  112.132 113.6   114.652 114.624\n",
      " 115.34  114.288 114.976 115.616 115.316 117.024 118.988 119.336 120.636\n",
      " 121.928 122.    123.184 123.864 124.128 124.744 125.112 125.896 126.328\n",
      " 127.54  129.32  130.944 131.696 132.276 133.64  134.012 135.128 137.028\n",
      " 137.48  138.612 139.512 140.228 141.984 143.272 144.296 144.824 146.384\n",
      " 146.516 146.584 147.348 148.2   149.892 151.016 153.216 154.56  153.896\n",
      " 155.328 156.812 158.608 158.456 159.432 159.308 159.752 161.424 161.784\n",
      " 163.056 163.144 164.416 165.56  166.96  167.824 166.208 166.776 167.528\n",
      " 168.272 168.604 170.712 170.812 172.512 174.944 176.024 178.452 179.88\n",
      " 180.844 182.168 183.092 181.192 181.116 182.208 183.804 185.688 186.128\n",
      " 186.704 188.372] \n",
      "\n",
      "\n",
      "Average distances as a function of step:\n"
     ]
    },
    {
     "data": {
      "image/png": "[encoded data removed]",
      "text/plain": [
       "<Figure size 432x288 with 1 Axes>"
      ]
     },
     "metadata": {
      "needs_background": "light"
     },
     "output_type": "display_data"
    }
   ],
   "source": [
    "# initial data\n",
    "walkers = 1000\n",
    "steps = 200\n",
    "\n",
    "# random walk matrix\n",
    "rw = npr.randint(2,size=(walkers,steps))\n",
    "rw[rw == 0] = -1\n",
    "print(\"Random walk matrix: \\n\\n\", rw,\"\\n\\n\")\n",
    "\n",
    "# computing distances at each step\n",
    "distances = np.copy(rw)\n",
    "for i in range(walkers):\n",
    "    for j in range(1,steps):\n",
    "        distances[i,j] += distances[i,j-1]\n",
    "print(\"The distances at each step for all the walkers are:\\n\\n\", distances, \"\\n\\n\")\n",
    "\n",
    "# squared distances\n",
    "squared_dist = np.square(distances)\n",
    "print(\"The squared distances at each step for all the walkers are:\\n\\n\", squared_dist, \"\\n\\n\")\n",
    "\n",
    "# mean of square distances\n",
    "mean_sq = np.mean(squared_dist, axis=0)\n",
    "print(\"The mean of square distances of each step is:\\n\\n\", mean_sq, \"\\n\\n\")\n",
    "\n",
    "# average distances plot\n",
    "avg_dist = np.sqrt(mean_sq)\n",
    "fig, ax = plt.subplots()\n",
    "ax.plot(range(steps), avg_dist, 'b-')\n",
    "plt.xlabel(\"steps\")\n",
    "plt.ylabel(\"distances\")\n",
    "ax.legend([\"average distances\"])\n",
    "print(\"Average distances as a function of step:\")\n",
    "plt.show()"
   ]
  },
  {
   "cell_type": "code",
   "execution_count": null,
   "metadata": {},
   "outputs": [],
   "source": []
  }
 ],
 "metadata": {
  "kernelspec": {
   "display_name": "Python 3 (ipykernel)",
   "language": "python",
   "name": "python3"
  },
  "language_info": {
   "codemirror_mode": {
    "name": "ipython",
    "version": 3
   },
   "file_extension": ".py",
   "mimetype": "text/x-python",
   "name": "python",
   "nbconvert_exporter": "python",
   "pygments_lexer": "ipython3",
   "version": "3.9.7"
  },
  "vscode": {
   "interpreter": {
    "hash": "d28f11b45618a7bd5a6e1d0e55704f4699015ab89f0f7c3e2b8a8e0497fed2b0"
   }
  }
 },
 "nbformat": 4,
 "nbformat_minor": 2
}
