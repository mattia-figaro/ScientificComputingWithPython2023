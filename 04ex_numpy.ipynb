{
 "cells": [
  {
   "cell_type": "markdown",
   "metadata": {},
   "source": [
    "1\\. **Reductions**\n",
    "\n",
<<<<<<< HEAD
    "Find the total mean, and the mean for each row and column of the following matrix:\n",
    "\n",
    "```python\n",
    "m = np.arange(12).reshape((3,4))\n",
    "```"
=======
    "Given the following matrix:\n",
    "\n",
    "```python\n",
    "m = np.arange(12).reshape((3,4))\n",
    "```\n",
    "\n",
    "   1. find the total mean\n",
    "   2. find the mean for each row and column"
>>>>>>> upstream/main
   ]
  },
  {
   "cell_type": "code",
<<<<<<< HEAD
   "execution_count": 2,
   "metadata": {},
   "outputs": [],
   "source": [
    "import numpy as np\n",
    "import numpy.random as npr\n",
    "import matplotlib.pyplot as plt\n",
    "from matplotlib.patches import Rectangle\n",
    "import pandas as pd\n",
    "import timeit"
   ]
  },
  {
   "cell_type": "code",
   "execution_count": 2,
   "metadata": {},
   "outputs": [
    {
     "name": "stdout",
     "output_type": "stream",
     "text": [
      "[[ 0  1  2  3]\n",
      " [ 4  5  6  7]\n",
      " [ 8  9 10 11]] \n",
      "\n",
      "Total mean: 5.5\n",
      "\n",
      "Mean of row 1: 1.5\n",
      "Mean of row 2: 5.5\n",
      "Mean of row 3: 9.5\n",
      "\n",
      "Mean of column 1: 4.0\n",
      "Mean of column 2: 5.0\n",
      "Mean of column 3: 6.0\n",
      "Mean of column 4: 7.0\n"
     ]
    }
   ],
   "source": [
    "m = np.arange(12).reshape((3,4))\n",
    "print(m, \"\\n\")\n",
    "\n",
    "# number of elements in matrix m \n",
    "num = m.shape[0] * m.shape[1]\n",
    "\n",
    "# total mean\n",
    "sum = 0\n",
    "for i in range(m.shape[0]):\n",
    "    for j in range(m.shape[1]):\n",
    "        sum += m[i,j]\n",
    "print(\"Total mean:\", sum / num)\n",
    "\n",
    "print(\"\")\n",
    "\n",
    "# mean of each row\n",
    "for i in range(m.shape[0]):\n",
    "    sum = 0\n",
    "    for j in range(m.shape[1]):\n",
    "        sum += m[i,j]\n",
    "    print(\"Mean of row\", str(i+1) + \":\", sum / m.shape[1])\n",
    "    \n",
    "print(\"\")\n",
    "    \n",
    "# mean of each column\n",
    "for i in range(m.shape[1]):\n",
    "    sum = 0\n",
    "    for j in range(m.shape[0]):\n",
    "        sum += m[j,i]\n",
    "    print(\"Mean of column\", str(i+1) + \":\", sum / m.shape[0])\n",
    "        "
   ]
=======
   "execution_count": null,
   "metadata": {},
   "outputs": [],
   "source": []
>>>>>>> upstream/main
  },
  {
   "cell_type": "markdown",
   "metadata": {},
   "source": [
    "2\\. **Outer product**\n",
    "\n",
    "Find the outer product of the following vectors:\n",
    "\n",
    "```python\n",
    "u = np.array([1, 3, 5, 7])\n",
    "v = np.array([2, 4, 6, 8])\n",
    "```\n",
    "\n",
    "Use different methods to do this:\n",
    "\n",
    "   1. Using the function `outer` in numpy\n",
    "   2. Using a nested `for` loop or a list comprehension\n",
    "   3. Using numpy broadcasting operations"
   ]
  },
  {
   "cell_type": "code",
<<<<<<< HEAD
   "execution_count": 5,
   "metadata": {},
   "outputs": [
    {
     "name": "stdout",
     "output_type": "stream",
     "text": [
      "u: [1 3 5 7] \n",
      "\n",
      "v: [2 4 6 8] \n",
      "\n",
      "Using \"outer function \":\n",
      " [[ 2  4  6  8]\n",
      " [ 6 12 18 24]\n",
      " [10 20 30 40]\n",
      " [14 28 42 56]] \n",
      "\n",
      "Using a for loop:\n",
      " [[ 2.  4.  6.  8.]\n",
      " [ 6. 12. 18. 24.]\n",
      " [10. 20. 30. 40.]\n",
      " [14. 28. 42. 56.]] \n",
      "\n",
      "Using a numpy broadcasting operations:\n",
      " [[ 2  4  6  8]\n",
      " [ 6 12 18 24]\n",
      " [10 20 30 40]\n",
      " [14 28 42 56]] \n",
      "\n"
     ]
    }
   ],
   "source": [
    "u = np.array([1, 3, 5, 7])\n",
    "v = np.array([2, 4, 6, 8])\n",
    "print(\"u:\", u, \"\\n\")\n",
    "print(\"v:\", v, \"\\n\")\n",
    "\n",
    "# using function outer in numpy\n",
    "print(\"Using \\\"outer function \\\":\\n\", np.outer(u,v), \"\\n\")\n",
    "\n",
    "# using a for loop\n",
    "m = np.zeros((4,4))\n",
    "for i in range(u.shape[0]):\n",
    "    for j in range(v.shape[0]):\n",
    "        m[i,j] = int(u[i] * v[j])\n",
    "print(\"Using a for loop:\\n\", m, \"\\n\")\n",
    "\n",
    "# using a numpy broadcasting operations \n",
    "u_1 = u.reshape(4,1) # taking the transpose of u\n",
    "print(\"Using a numpy broadcasting operations:\\n\", u_1 * v, \"\\n\")\n"
   ]
=======
   "execution_count": null,
   "metadata": {},
   "outputs": [],
   "source": []
>>>>>>> upstream/main
  },
  {
   "cell_type": "markdown",
   "metadata": {},
   "source": [
    "3\\. **Matrix masking**\n",
    "\n",
<<<<<<< HEAD
    "Create a 10 by 6 matrix of float random numbers, distributed between 0 and 3 according to a flat distribution.\n",
=======
    "Create a $10 \\times 6$ matrix of float random numbers, distributed between 0 and 3 according to a flat distribution.\n",
>>>>>>> upstream/main
    "\n",
    "After creating the matrix, set all entries $< 0.3$ to zero using a mask."
   ]
  },
  {
   "cell_type": "code",
<<<<<<< HEAD
   "execution_count": 4,
   "metadata": {},
   "outputs": [
    {
     "name": "stdout",
     "output_type": "stream",
     "text": [
      "Generated random matrix:\n",
      "\n",
      " [[0.90494142 1.55957855 1.12867623 2.17671976 0.0143829  1.85168822]\n",
      " [0.15432886 2.74466943 2.50589636 1.55211417 0.54846458 0.09985244]\n",
      " [1.93025461 1.12968482 1.78899556 0.6670783  2.72211723 1.04183677]\n",
      " [2.68468523 1.89098593 2.98205195 1.58571837 0.00558765 0.02543868]\n",
      " [1.72256357 1.43568879 1.23397062 2.0105066  1.62830141 0.73077406]\n",
      " [2.99724774 0.92747859 0.01015506 2.26043878 0.481895   1.25482004]\n",
      " [2.65539207 1.96874359 1.66570113 0.12849806 1.74335653 2.18368442]\n",
      " [0.85869223 2.54525368 2.76004328 0.02865343 1.03188184 1.0568997 ]\n",
      " [2.66457388 0.49365692 2.82763282 0.66556474 2.60361485 2.29037696]\n",
      " [1.7927824  2.50665654 2.32277703 0.93812698 2.22061825 2.57870902]] \n",
      "\n",
      "\n",
      "After the mask:\n",
      "\n",
      " [[0.90494142 1.55957855 1.12867623 2.17671976 0.         1.85168822]\n",
      " [0.         2.74466943 2.50589636 1.55211417 0.54846458 0.        ]\n",
      " [1.93025461 1.12968482 1.78899556 0.6670783  2.72211723 1.04183677]\n",
      " [2.68468523 1.89098593 2.98205195 1.58571837 0.         0.        ]\n",
      " [1.72256357 1.43568879 1.23397062 2.0105066  1.62830141 0.73077406]\n",
      " [2.99724774 0.92747859 0.         2.26043878 0.481895   1.25482004]\n",
      " [2.65539207 1.96874359 1.66570113 0.         1.74335653 2.18368442]\n",
      " [0.85869223 2.54525368 2.76004328 0.         1.03188184 1.0568997 ]\n",
      " [2.66457388 0.49365692 2.82763282 0.66556474 2.60361485 2.29037696]\n",
      " [1.7927824  2.50665654 2.32277703 0.93812698 2.22061825 2.57870902]]\n"
     ]
    }
   ],
   "source": [
    "# generating the random matrix\n",
    "m = npr.rand(10,6) * 3\n",
    "print(\"Generated random matrix:\\n\\n\", m, \"\\n\\n\")\n",
    "\n",
    "# setting all entries <0.3 to zero\n",
    "m[m < 0.3] = 0\n",
    "print(\"After the mask:\\n\\n\", m)"
   ]
=======
   "execution_count": null,
   "metadata": {},
   "outputs": [],
   "source": []
>>>>>>> upstream/main
  },
  {
   "cell_type": "markdown",
   "metadata": {},
   "source": [
    "4\\. **Trigonometric functions**\n",
    "\n",
    "Use `np.linspace` to create an array of 100 numbers between $0$ and $2\\pi$ (inclusive).\n",
    "\n",
    "  * Extract every 10th element using the slice notation\n",
    "  * Reverse the array using the slice notation\n",
    "  * Extract elements where the absolute difference between the `sin` and `cos` functions evaluated for that element is $< 0.1$\n",
<<<<<<< HEAD
    "  * **Optional**: make a plot showing the sin and cos functions and indicate where they are close"
=======
    "  * **Optional**: make a plot showing the `sin` and `cos` functions and indicate graphically (with a line or a marker) where they are close"
>>>>>>> upstream/main
   ]
  },
  {
   "cell_type": "code",
<<<<<<< HEAD
   "execution_count": 7,
   "metadata": {},
   "outputs": [
    {
     "name": "stdout",
     "output_type": "stream",
     "text": [
      "The vector is:\n",
      "\n",
      " [0.         0.06346652 0.12693304 0.19039955 0.25386607 0.31733259\n",
      " 0.38079911 0.44426563 0.50773215 0.57119866 0.63466518 0.6981317\n",
      " 0.76159822 0.82506474 0.88853126 0.95199777 1.01546429 1.07893081\n",
      " 1.14239733 1.20586385 1.26933037 1.33279688 1.3962634  1.45972992\n",
      " 1.52319644 1.58666296 1.65012947 1.71359599 1.77706251 1.84052903\n",
      " 1.90399555 1.96746207 2.03092858 2.0943951  2.15786162 2.22132814\n",
      " 2.28479466 2.34826118 2.41172769 2.47519421 2.53866073 2.60212725\n",
      " 2.66559377 2.72906028 2.7925268  2.85599332 2.91945984 2.98292636\n",
      " 3.04639288 3.10985939 3.17332591 3.23679243 3.30025895 3.36372547\n",
      " 3.42719199 3.4906585  3.55412502 3.61759154 3.68105806 3.74452458\n",
      " 3.8079911  3.87145761 3.93492413 3.99839065 4.06185717 4.12532369\n",
      " 4.1887902  4.25225672 4.31572324 4.37918976 4.44265628 4.5061228\n",
      " 4.56958931 4.63305583 4.69652235 4.75998887 4.82345539 4.88692191\n",
      " 4.95038842 5.01385494 5.07732146 5.14078798 5.2042545  5.26772102\n",
      " 5.33118753 5.39465405 5.45812057 5.52158709 5.58505361 5.64852012\n",
      " 5.71198664 5.77545316 5.83891968 5.9023862  5.96585272 6.02931923\n",
      " 6.09278575 6.15625227 6.21971879 6.28318531] \n",
      "\n",
      "\n",
      "Extract every 10th element:\n",
      "\n",
      " [0.57119866 1.20586385 1.84052903 2.47519421 3.10985939 3.74452458\n",
      " 4.37918976 5.01385494 5.64852012 6.28318531] \n",
      "\n",
      "\n",
      "The reverse is:\n",
      "\n",
      " [6.28318531 6.21971879 6.15625227 6.09278575 6.02931923 5.96585272\n",
      " 5.9023862  5.83891968 5.77545316 5.71198664 5.64852012 5.58505361\n",
      " 5.52158709 5.45812057 5.39465405 5.33118753 5.26772102 5.2042545\n",
      " 5.14078798 5.07732146 5.01385494 4.95038842 4.88692191 4.82345539\n",
      " 4.75998887 4.69652235 4.63305583 4.56958931 4.5061228  4.44265628\n",
      " 4.37918976 4.31572324 4.25225672 4.1887902  4.12532369 4.06185717\n",
      " 3.99839065 3.93492413 3.87145761 3.8079911  3.74452458 3.68105806\n",
      " 3.61759154 3.55412502 3.4906585  3.42719199 3.36372547 3.30025895\n",
      " 3.23679243 3.17332591 3.10985939 3.04639288 2.98292636 2.91945984\n",
      " 2.85599332 2.7925268  2.72906028 2.66559377 2.60212725 2.53866073\n",
      " 2.47519421 2.41172769 2.34826118 2.28479466 2.22132814 2.15786162\n",
      " 2.0943951  2.03092858 1.96746207 1.90399555 1.84052903 1.77706251\n",
      " 1.71359599 1.65012947 1.58666296 1.52319644 1.45972992 1.3962634\n",
      " 1.33279688 1.26933037 1.20586385 1.14239733 1.07893081 1.01546429\n",
      " 0.95199777 0.88853126 0.82506474 0.76159822 0.6981317  0.63466518\n",
      " 0.57119866 0.50773215 0.44426563 0.38079911 0.31733259 0.25386607\n",
      " 0.19039955 0.12693304 0.06346652 0.        ] \n",
      "\n",
      "\n",
      "After sin and cos condition:\n",
      "\n",
      " [0.76159822 0.82506474 3.87145761 3.93492413] \n",
      "\n",
      "\n",
      "Plot:\n"
     ]
    },
    {
     "data": {
      "image/png": "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\n",
      "text/plain": [
       "<Figure size 432x288 with 1 Axes>"
      ]
     },
     "metadata": {
      "needs_background": "light"
     },
     "output_type": "display_data"
    }
   ],
   "source": [
    "# vector of 100 numbers between 0 and 2*pi\n",
    "v = np.linspace(0, 2*np.pi, 100)\n",
    "print(\"The vector is:\\n\\n\", v, \"\\n\\n\")\n",
    "\n",
    "# extract every 10th element\n",
    "ten = v[9::10]\n",
    "print(\"Extract every 10th element:\\n\\n\", ten, \"\\n\\n\")\n",
    "\n",
    "# reverse the arry\n",
    "reverse = v[::-1]\n",
    "print(\"The reverse is:\\n\\n\", reverse, \"\\n\\n\")\n",
    "\n",
    "# sin and cos condition\n",
    "sc = np.zeros(0)\n",
    "for i in range(v.shape[0]):\n",
    "    #if abs(np.cos(v[i])) - abs(np.sin(v[i])) < 0.1:\n",
    "    if abs(np.cos(v[i]) - np.sin(v[i])) < 0.1:\n",
    "        sc = np.concatenate((sc, np.array([v[i]])))\n",
    "print(\"After sin and cos condition:\\n\\n\", sc, \"\\n\\n\")\n",
    "\n",
    "# plot\n",
    "cos_func = np.cos(v)\n",
    "sin_func = np.sin(v)\n",
    "inter = np.zeros(v.shape[0])\n",
    "for i in range(v.shape[0]):\n",
    "    if abs(sin_func[i] - cos_func[i]) < 0.1 :\n",
    "        inter[i] = 0.5\n",
    "    else:\n",
    "        inter[i] = None\n",
    "        \n",
    "fig, ax = plt.subplots()\n",
    "ax.plot(v, cos_func, 'r-')\n",
    "ax.plot(v, sin_func, 'g-')\n",
    "#add rectangles to plot\n",
    "ax.add_patch(Rectangle((sc[0],np.sin(sc[0])),sc[1]-sc[0],0.05,edgecolor='blue',facecolor='pink',fill=True,lw=5))\n",
    "ax.add_patch(Rectangle((sc[2],np.cos(sc[2])),sc[3]-sc[2],0.05,edgecolor='blue',facecolor='pink',fill=True,lw=5))\n",
    "ax.legend(['cos', 'sin', 'close area'])\n",
    "print(\"Plot:\")\n",
    "plt.show()"
   ]
=======
   "execution_count": null,
   "metadata": {},
   "outputs": [],
   "source": []
>>>>>>> upstream/main
  },
  {
   "cell_type": "markdown",
   "metadata": {},
   "source": [
    "5\\. **Matrices**\n",
    "\n",
<<<<<<< HEAD
    "Create a matrix that shows the 10 by 10 multiplication table.\n",
=======
    "Create a matrix that shows the $10 \\times 10$ multiplication table.\n",
>>>>>>> upstream/main
    "\n",
    " * Find the trace of the matrix\n",
    " * Extract the anti-diagonal matrix (this should be ```array([10, 18, 24, 28, 30, 30, 28, 24, 18, 10])```)\n",
    " * Extract the diagonal offset by 1 upwards (this should be ```array([ 2,  6, 12, 20, 30, 42, 56, 72, 90])```)"
   ]
  },
  {
   "cell_type": "code",
<<<<<<< HEAD
   "execution_count": 8,
   "metadata": {},
   "outputs": [
    {
     "name": "stdout",
     "output_type": "stream",
     "text": [
      "The 10 by 10 multuplication table is:\n",
      "\n",
      " [[  1   2   3   4   5   6   7   8   9  10]\n",
      " [  2   4   6   8  10  12  14  16  18  20]\n",
      " [  3   6   9  12  15  18  21  24  27  30]\n",
      " [  4   8  12  16  20  24  28  32  36  40]\n",
      " [  5  10  15  20  25  30  35  40  45  50]\n",
      " [  6  12  18  24  30  36  42  48  54  60]\n",
      " [  7  14  21  28  35  42  49  56  63  70]\n",
      " [  8  16  24  32  40  48  56  64  72  80]\n",
      " [  9  18  27  36  45  54  63  72  81  90]\n",
      " [ 10  20  30  40  50  60  70  80  90 100]] \n",
      "\n",
      "\n",
      "The trace is: 385 \n",
      "\n",
      "The anti-diagonal is: [10 18 24 28 30 30 28 24 18 10] \n",
      "\n",
      "The offset diagonal is: [ 2  6 12 20 30 42 56 72 90]\n"
     ]
    }
   ],
   "source": [
    "# 10 by 10 multiplication table\n",
    "u = np.array(range(1,11))\n",
    "v = u.reshape(10,1)\n",
    "m = v * u\n",
    "print(\"The 10 by 10 multuplication table is:\\n\\n\", m, \"\\n\\n\")\n",
    "\n",
    "# find the trace\n",
    "trace = 0\n",
    "for i in range(10):\n",
    "    trace += m[i,i]\n",
    "# Or: trace = np.trace(m)\n",
    "print(\"The trace is:\", trace, \"\\n\")\n",
    "\n",
    "# find the anti-diagonal\n",
    "mylist = []\n",
    "for i in range(10):\n",
    "    mylist.append(m[i,9-i])\n",
    "ant_diag = np.array(mylist)\n",
    "# Or: ant_diag = np.diagonal(m[::-1])\n",
    "print(\"The anti-diagonal is:\", ant_diag, \"\\n\")\n",
    "\n",
    "# find the offset diagonal\n",
    "mylist = []\n",
    "for i in range(9):\n",
    "    mylist.append(m[i,i+1])\n",
    "off_diag = np.array(mylist)\n",
    "# Or: off_diag = np.diagonal(m[0:9,1:10])\n",
    "print(\"The offset diagonal is:\", off_diag)"
   ]
=======
   "execution_count": null,
   "metadata": {},
   "outputs": [],
   "source": []
>>>>>>> upstream/main
  },
  {
   "cell_type": "markdown",
   "metadata": {},
   "source": [
    "6\\. **Broadcasting**\n",
    "\n",
    "Use broadcasting to create a grid of distances.\n",
    "\n",
    "Route 66 crosses the following cities in the US: Chicago, Springfield, Saint-Louis, Tulsa, Oklahoma City, Amarillo, Santa Fe, Albuquerque, Flagstaff, Los Angeles.\n",
    "\n",
<<<<<<< HEAD
    "The corresponding positions in miles are: 0, 198, 303, 736, 871, 1175, 1475, 1544, 1913, 2448\n",
=======
    "The corresponding positions in miles are: `0, 198, 303, 736, 871, 1175, 1475, 1544, 1913, 2448`\n",
>>>>>>> upstream/main
    "\n",
    "  * Build a 2D grid of distances among each city along Route 66\n",
    "  * Convert the distances in km"
   ]
  },
  {
   "cell_type": "code",
<<<<<<< HEAD
   "execution_count": 9,
   "metadata": {},
   "outputs": [
    {
     "name": "stdout",
     "output_type": "stream",
     "text": [
      "Grid in miles:\n",
      "\n",
      "                Chicago   Springfield   Saint-Louis   Tulsa   Oklahoma City   \\\n",
      "Chicago                0           198           303     736             871   \n",
      "Springfield          198             0           105     538             673   \n",
      "Saint-Louis          303           105             0     433             568   \n",
      "Tulsa                736           538           433       0             135   \n",
      "Oklahoma City        871           673           568     135               0   \n",
      "Amarillo            1175           977           872     439             304   \n",
      "Santa Fe            1475          1277          1172     739             604   \n",
      "Albuquerque         1544          1346          1241     808             673   \n",
      "Flagstaff           1913          1715          1610    1177            1042   \n",
      "Los Angeles         2448          2250          2145    1712            1577   \n",
      "\n",
      "                Amarillo   Santa Fe   Albuquerque   Flagstaff   Los Angeles  \n",
      "Chicago              1175       1475          1544        1913         2448  \n",
      "Springfield           977       1277          1346        1715         2250  \n",
      "Saint-Louis           872       1172          1241        1610         2145  \n",
      "Tulsa                 439        739           808        1177         1712  \n",
      "Oklahoma City         304        604           673        1042         1577  \n",
      "Amarillo                0        300           369         738         1273  \n",
      "Santa Fe              300          0            69         438          973  \n",
      "Albuquerque           369         69             0         369          904  \n",
      "Flagstaff             738        438           369           0          535  \n",
      "Los Angeles          1273        973           904         535            0  \n",
      "\n",
      "\n",
      "\n",
      "Grid in km:\n",
      "\n",
      "                  Chicago   Springfield   Saint-Louis       Tulsa   \\\n",
      "Chicago            0.00000     318.64932     487.63002  1184.47424   \n",
      "Springfield      318.64932       0.00000     168.98070   865.82492   \n",
      "Saint-Louis      487.63002     168.98070       0.00000   696.84422   \n",
      "Tulsa           1184.47424     865.82492     696.84422     0.00000   \n",
      "Oklahoma City   1401.73514    1083.08582     914.10512   217.26090   \n",
      "Amarillo        1890.97450    1572.32518    1403.34448   706.50026   \n",
      "Santa Fe        2373.77650    2055.12718    1886.14648  1189.30226   \n",
      "Albuquerque     2484.82096    2166.17164    1997.19094  1300.34672   \n",
      "Flagstaff       3078.66742    2760.01810    2591.03740  1894.19318   \n",
      "Los Angeles     3939.66432    3621.01500    3452.03430  2755.19008   \n",
      "\n",
      "                Oklahoma City    Amarillo    Santa Fe   Albuquerque   \\\n",
      "Chicago             1401.73514  1890.97450  2373.77650    2484.82096   \n",
      "Springfield         1083.08582  1572.32518  2055.12718    2166.17164   \n",
      "Saint-Louis          914.10512  1403.34448  1886.14648    1997.19094   \n",
      "Tulsa                217.26090   706.50026  1189.30226    1300.34672   \n",
      "Oklahoma City          0.00000   489.23936   972.04136    1083.08582   \n",
      "Amarillo             489.23936     0.00000   482.80200     593.84646   \n",
      "Santa Fe             972.04136   482.80200     0.00000     111.04446   \n",
      "Albuquerque         1083.08582   593.84646   111.04446       0.00000   \n",
      "Flagstaff           1676.93228  1187.69292   704.89092     593.84646   \n",
      "Los Angeles         2537.92918  2048.68982  1565.88782    1454.84336   \n",
      "\n",
      "                Flagstaff   Los Angeles  \n",
      "Chicago         3078.66742   3939.66432  \n",
      "Springfield     2760.01810   3621.01500  \n",
      "Saint-Louis     2591.03740   3452.03430  \n",
      "Tulsa           1894.19318   2755.19008  \n",
      "Oklahoma City   1676.93228   2537.92918  \n",
      "Amarillo        1187.69292   2048.68982  \n",
      "Santa Fe         704.89092   1565.88782  \n",
      "Albuquerque      593.84646   1454.84336  \n",
      "Flagstaff          0.00000    860.99690  \n",
      "Los Angeles      860.99690      0.00000  \n"
     ]
    }
   ],
   "source": [
    "# initial data\n",
    "cities = [\"Chicago \", \"Springfield \", \"Saint-Louis \", \"Tulsa \", \"Oklahoma City \", \"Amarillo \", \"Santa Fe \", \"Albuquerque \", \"Flagstaff \", \"Los Angeles\"]\n",
    "miles = np.array([0, 198, 303, 736, 871, 1175, 1475, 1544, 1913, 2448])\n",
    "km = miles * 1.60934\n",
    "\n",
    "# grid computation\n",
    "route66_miles = abs(miles.reshape(10,1) - miles)\n",
    "route66_km = abs(km.reshape(10,1) - km)\n",
    "\n",
    "# print the results\n",
    "print(\"Grid in miles:\\n\")\n",
    "print(pd.DataFrame(route66_miles, index=cities, columns=cities))\n",
    "print(\"\\n\\n\\nGrid in km:\\n\")\n",
    "print(pd.DataFrame(route66_km, index=cities, columns=cities))"
   ]
=======
   "execution_count": null,
   "metadata": {},
   "outputs": [],
   "source": []
>>>>>>> upstream/main
  },
  {
   "cell_type": "markdown",
   "metadata": {},
   "source": [
    "7\\. **Prime numbers sieve**\n",
    "\n",
    "Compute the prime numbers in the 0-N (start with N=99) range with a sieve (mask).\n",
    "\n",
<<<<<<< HEAD
    "  * Constract a shape (N,) boolean array, which is the mask\n",
=======
    "  * Construct a shape (N,) boolean array, which is the mask\n",
>>>>>>> upstream/main
    "  * Identify the multiples of each number starting from 2 and set accordingly the corresponding mask element\n",
    "  * Apply the mask to obtain an array of ordered prime numbers\n",
    "  * Check the performances (with `timeit`); how does it scale with N?\n",
    "  * Implement the optimization suggested in the [sieve of Eratosthenes](https://en.wikipedia.org/wiki/Sieve_of_Eratosthenes)"
   ]
  },
  {
   "cell_type": "code",
<<<<<<< HEAD
   "execution_count": 10,
   "metadata": {},
   "outputs": [
    {
     "name": "stdout",
     "output_type": "stream",
     "text": [
      "Standard method needs 0.000617 sec, and the result is:\n",
      "\n",
      " [ 1  2  3  5  7 11 13 17 19 23 29 31 37 41 43 47 53 59 61 67 71 73 79 83\n",
      " 89 97] \n",
      "\n",
      "\n",
      "N vs time:\n"
     ]
    },
    {
     "data": {
      "image/png": "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\n",
      "text/plain": [
       "<Figure size 432x288 with 1 Axes>"
      ]
     },
     "metadata": {
      "needs_background": "light"
     },
     "output_type": "display_data"
    },
    {
     "name": "stdout",
     "output_type": "stream",
     "text": [
      "\n",
      "Optimized method needs 0.000294 sec, and the result is:\n",
      "\n",
      " [ 1  2  3  5  7 11 13 17 19 23 29 31 37 41 43 47 53 59 61 67 71 73 79 83\n",
      " 89 97]\n"
     ]
    }
   ],
   "source": [
    "# standard function to compute the first N prime numbers\n",
    "def prime_comp(N):\n",
    "    mask = np.ones(N, dtype=bool)\n",
    "    # computing the mask \n",
    "    for i in range(2, N+1):\n",
    "        for j in range(2, N+1):\n",
    "            if j % i == 0 and i != j:\n",
    "                mask[j-1] = False\n",
    "    return mask \n",
    "\n",
    "# computing the prime numbers\n",
    "start_time = timeit.default_timer()\n",
    "N = 99\n",
    "numbers = np.array(range(1,N+1))\n",
    "mask = prime_comp(N)\n",
    "primes = numbers[mask]\n",
    "end_time = timeit.default_timer()\n",
    "time = end_time - start_time\n",
    "print(\"Standard method needs\", round(time, 6), \"sec, and the result is:\\n\\n\", primes, \"\\n\\n\")\n",
    "\n",
    "# how does the time scale with N?\n",
    "# looking to the graph we can see that the computation time\n",
    "# grows fairly quickly when we increase the size of the \n",
    "# instance. of course, using \"prime_comp(N)\" function it is\n",
    "# proportional to N^2\n",
    "mytime = []\n",
    "end = 15\n",
    "for i in range(1,end):\n",
    "    start_time = timeit.default_timer()\n",
    "    N1 = 99*i\n",
    "    mask = prime_comp(N1)\n",
    "    end_time = timeit.default_timer()\n",
    "    time = end_time - start_time\n",
    "    mytime.append(time)\n",
    "fig, ax = plt.subplots()\n",
    "ax.plot(range(1,end), mytime, 'b-')\n",
    "plt.xlabel(\"Integer multple of \" + str(N))\n",
    "plt.ylabel(\"Time [sec]\")\n",
    "ax.legend(['N vs time'])\n",
    "print(\"N vs time:\")\n",
    "plt.show()\n",
    "\n",
    "def opt_prime(N):\n",
    "    mask = np.ones(N, dtype=bool)\n",
    "    i = 2 # index of prime numbers \n",
    "    while i < N:\n",
    "        for j in range(4,N+1):\n",
    "            if j % i == 0 and i != j:\n",
    "                mask[j-1] = False\n",
    "        flag = True\n",
    "        # searching the next prime\n",
    "        while flag and i < N:\n",
    "            i += 1\n",
    "            if mask[i-1] == True:\n",
    "                flag = False\n",
    "    return mask\n",
    "\n",
    "# computing the prime numbers with optimized method\n",
    "start_time = timeit.default_timer()\n",
    "N = 99\n",
    "numbers = np.array(range(1,N+1))\n",
    "mask = opt_prime(N)\n",
    "primes = numbers[mask]\n",
    "end_time = timeit.default_timer()\n",
    "time = end_time - start_time\n",
    "print(\"\\nOptimized method needs\", round(time, 6), \"sec, and the result is:\\n\\n\", primes)"
   ]
=======
   "execution_count": null,
   "metadata": {},
   "outputs": [],
   "source": []
>>>>>>> upstream/main
  },
  {
   "cell_type": "markdown",
   "metadata": {},
   "source": [
    "8\\. **Diffusion using random walk**\n",
    "\n",
    "Consider a simple random walk process: at each step in time, a walker jumps right or left (+1 or -1) with equal probability. The goal is to find the typical distance from the origin of many random walkers after a given amount of time.\n",
    "\n",
    "*Hint*: create a 2D array where each row represents a walker, and each column represents a time step.\n",
    "\n",
    "  * Take 1000 walkers and let them walk for 200 steps\n",
    "  * Use `randint` to create a 2D array of size $walkers \\times steps$ with values -1 or 1\n",
    "  * Calculate the walking distances for each walker (e.g. by summing the elements in each row)\n",
    "  * Take the square of the previously-obtained array (element-wise)\n",
    "  * Compute the mean of the squared distances at each step (i.e. the mean along the columns)\n",
    "  * **Optional**: plot the average distances ($\\sqrt(distance^2)$) as a function of time (step)"
   ]
  },
  {
   "cell_type": "code",
<<<<<<< HEAD
   "execution_count": 11,
   "metadata": {},
   "outputs": [
    {
     "name": "stdout",
     "output_type": "stream",
     "text": [
      "Random walk matrix: \n",
      "\n",
      " [[-1  1 -1 ...  1 -1 -1]\n",
      " [-1  1 -1 ...  1  1 -1]\n",
      " [ 1  1 -1 ... -1  1  1]\n",
      " ...\n",
      " [-1 -1  1 ...  1  1  1]\n",
      " [ 1  1  1 ... -1 -1  1]\n",
      " [ 1  1  1 ...  1 -1  1]] \n",
      "\n",
      "\n",
      "The distances at each step for all the walkers are:\n",
      "\n",
      " [[ -1   0  -1 ...   2   1   0]\n",
      " [ -1   0  -1 ...   2   3   2]\n",
      " [  1   2   1 ...  20  21  22]\n",
      " ...\n",
      " [ -1  -2  -1 ... -10  -9  -8]\n",
      " [  1   2   3 ...   4   3   4]\n",
      " [  1   2   3 ...  -4  -5  -4]] \n",
      "\n",
      "\n",
      "The squared distances at each step for all the walkers are:\n",
      "\n",
      " [[  1   0   1 ...   4   1   0]\n",
      " [  1   0   1 ...   4   9   4]\n",
      " [  1   4   1 ... 400 441 484]\n",
      " ...\n",
      " [  1   4   1 ... 100  81  64]\n",
      " [  1   4   9 ...  16   9  16]\n",
      " [  1   4   9 ...  16  25  16]] \n",
      "\n",
      "\n",
      "The mean of square distances of each step is:\n",
      "\n",
      " [  1.      2.02    3.104   4.148   5.136   6.148   6.96    7.76    8.736\n",
      "   9.692  11.192  12.26   13.56   14.312  15.328  16.272  17.16   18.304\n",
      "  18.856  19.888  20.848  21.612  22.632  23.344  24.936  26.168  27.24\n",
      "  28.272  29.192  29.74   30.904  31.552  32.264  33.56   34.696  35.42\n",
      "  36.192  37.008  37.712  39.224  40.36   41.6    42.28   43.292  44.024\n",
      "  45.22   46.216  46.972  48.872  49.86   51.912  53.112  54.896  55.712\n",
      "  56.448  57.132  58.312  59.644  61.152  61.788  62.56   63.332  63.48\n",
      "  65.204  66.288  67.944  69.096  68.932  70.064  70.9    72.912  73.748\n",
      "  74.744  75.988  77.096  77.668  78.12   78.708  79.336  79.624  80.672\n",
      "  81.048  82.8    83.548  84.768  86.572  88.424  89.416  90.264  91.66\n",
      "  93.2    94.504  95.12   96.364  97.048  97.74   98.008  99.12  100.832\n",
      " 102.556 103.672 105.148 106.512 106.588 108.552 109.664 110.6   112.476\n",
      " 113.352 114.684 114.688 116.512 118.232 119.7   120.944 122.008 124.112\n",
      " 126.8   128.128 128.94  129.696 131.464 131.408 131.892 132.84  133.152\n",
      " 134.504 134.64  135.736 137.044 138.192 140.348 140.576 140.664 141.928\n",
      " 143.244 143.888 144.308 145.432 145.78  147.632 149.296 149.648 151.444\n",
      " 151.296 152.276 151.608 151.732 154.272 155.28  156.6   158.468 159.256\n",
      " 159.692 159.352 159.924 161.36  161.564 161.8   163.376 165.336 165.76\n",
      " 166.392 167.336 167.384 168.76  168.608 168.472 169.68  172.228 173.288\n",
      " 174.832 175.064 175.696 176.512 177.74  177.168 178.34  178.176 179.632\n",
      " 180.736 180.592 180.224 181.396 183.792 184.652 184.344 187.568 188.968\n",
      " 189.972 191.448 191.292 191.248 192.54  193.408 193.628 195.176 194.728\n",
      " 195.024 196.792] \n",
      "\n",
      "\n",
      "Average distances using the procedure assigmented:\n"
     ]
    },
    {
     "data": {
      "image/png": "iVBORw0KGgoAAAANSUhEUgAAAX4AAAEGCAYAAABiq/5QAAAAOXRFWHRTb2Z0d2FyZQBNYXRwbG90bGliIHZlcnNpb24zLjQuMywgaHR0cHM6Ly9tYXRwbG90bGliLm9yZy/MnkTPAAAACXBIWXMAAAsTAAALEwEAmpwYAAAoO0lEQVR4nO3de5zOZf7H8dcnREIU7So5FuVYTunAdrCRlKKi/bVRorW7nVP6KfXrpGg7K+lEZSVa0irluOmAhkbJIZHdJnIsBmGYz++P62bHGAzmvr/3zP1+Ph7zuO/53vfc18f3vn3mmut7XZ/L3B0REUkdh0UdgIiIJJYSv4hIilHiFxFJMUr8IiIpRolfRCTFFI86gPyoWLGiV69ePeowREQKldmzZ69x90q5jxeKxF+9enXS0tKiDkNEpFAxs3/ndVxDPSIiKUaJX0QkxSjxi4ikmEIxxp+XrKwsMjIy2LJlS9ShSIKVKlWKKlWqUKJEiahDESmUCm3iz8jIoGzZslSvXh0zizocSRB3Z+3atWRkZFCjRo2owxEplArtUM+WLVs45phjlPRTjJlxzDHH6C89kUMQt8RvZq+a2Sozm5fHY3eYmZtZxUNs41B+XAopve8ihyaePf6hQNvcB83sBOD3wH/i2LaISKG2Zg3cfDOsX1/wrx23MX53/9jMqufx0JPAncC78Wpb9u/++++nTJky3HHHHfTr149WrVrRunXrPJ87duxYateuTd26dRMcpUhq2LgRBg2ClSuhevVw++KLIem3bg0XX1yw7SX04q6ZXQL86O5z9/fnupn1BHoCVK1aNQHRJYcdO3ZQrFixhLb5wAMP7PPxsWPH0r59eyV+kQKyfTtMngzjxsF330F6OqxaBaVKwZYtYAYtW8Lzz0O9egXffsIu7ppZaaAv0C8/z3f3Ie7e1N2bVqq0R6mJpHDppZfSpEkT6tWrx5AhQwB44YUXuPPOO3c9Z+jQodx4440AvPnmmzRv3pxTTz2VG264gR07dgBQpkwZ+vXrx+mnn87nn3/OAw88QLNmzahfvz49e/Zk5y5pX3zxBQ0bNuSMM86gd+/e1K9fHwi/LHr37k2zZs1o2LAhL774Yp7xPvzww9SpU4fWrVuzaNGiXce7devG6NGjAejTpw9169alYcOG3HHHHXz22WeMGzeO3r17c+qpp7JkyRJeeuklmjVrRqNGjejUqRObN2/e9To33XQTZ555JjVr1tz1mgADBgygQYMGNGrUiD59+gCwZMkS2rZtS5MmTWjZsiULFy4EYNSoUdSvX59GjRrRqlWrQ3yXRKK1ejXcfz/ceCPceSfcfTfUrg1t28LQofDzzyHJf/YZbNoUevtbt8K//hWfpA+E6XHx+gKqA/Ni9xsAq4Blsa/thHH+3+7vdZo0aeK5zZ8/f9f9m292/93vCvbr5pv3aHIPa9eudXf3zZs3e7169XzNmjW+atUqr1Wr1q7ntG3b1qdPn+7z58/39u3b+7Zt29zdvVevXj5s2DD3cHJ85MiRe7yuu/vVV1/t48aNc3f3evXq+aeffuru7nfddZfXq1fP3d1ffPFFf/DBB93dfcuWLd6kSRNfunTpbrGmpaV5/fr1fdOmTb5+/XqvVauWDxw40N3du3bt6qNGjfK1a9d67dq1PTs7293df/75590e32nNmjW77vft29efeeaZXc+7/PLLfceOHf7NN9/sOg/vv/++n3HGGb5p06bd/n3nnXeef/vtt+7uPmPGDD/33HPd3b1+/fqekZGxWwy55Xz/RZLR7NnuN97oXqaM+2GHuVeo4F6qlDu4t2jhPmqU++bN8Y0BSPM8cmrChnrc/Wvg2J3fm9kyoKm7r0lUDAXtmWeeYcyYMQD88MMPLF68mBYtWlCzZk1mzJjBSSedxKJFizjrrLMYNGgQs2fPplmzZgD8+uuvHHtsOB3FihWjU6dOu1536tSpDBgwgM2bN7Nu3Trq1atHy5YtyczM5MwzzwTgD3/4A//85z8B+Oijj/jqq6929bDXr1/P4sWLd5vnPn36dC677DJKly4NwCWXXLLHv6dcuXKUKlWK66+/nosuuoj27dvn+e+eN28e99xzD7/88gsbN26kTZs2ux679NJLOeyww6hbty4rV64EYNKkSVx77bW72j766KPZuHEjn332GVdcccWun926dSsAZ511Ft26dePKK6+kY8eO+XszRJLEokVwyy0wYQKULAkdO8K998Ipp4TH3cNQTpTilvjNbARwDlDRzDKA+9z9lXi09dRT8XjVfZs2bRqTJk3i888/p3Tp0pxzzjm75pZ37tyZt99+m5NPPpnLLrsMM8Pd6dq1K/3799/jtUqVKrVrXH/Lli38+c9/Ji0tjRNOOIH777+fLVu27BruyYu78+yzz+6WgPOyv+sqxYsXZ9asWUyePJm33nqL5557jilTpuzxvG7dujF27FgaNWrE0KFDmTZt2q7HSpYsuVtcO29zt52dnU358uVJT0/f4/UHDx7MzJkzGT9+PKeeeirp6ekcc8wx+4xdJBksXx4uxm7aBI89Bj17Qvnyuz8n6qQPcRzjd/er3L2yu5dw9yq5k767Vy/Mvf3169dToUIFSpcuzcKFC5kxY8auxzp27MjYsWMZMWIEnTt3BuD8889n9OjRrFq1CoB169bx73/vWTF15y+PihUrsnHjxl29+AoVKlC2bNld7bz11lu7fqZNmza88MILZGVlAfDtt9+yadOm3V63VatWjBkzhl9//ZXMzEzee++9PdreuHEj69evp127djz11FO7knLZsmXJzMzc9bzMzEwqV65MVlYWw4cP3++5uuCCC3j11Vd3XQtYt24d5cqVo0aNGowaNQoIvxzmzp0LhLH/008/nQceeICKFSvyww8/7LcNkShkZ8OIEaFX37QpnHUW/PILTJ0axvNzJ/1kUWhLNkStbdu2DB48mIYNG1KnTh1atGix67EKFSpQt25d5s+fT/PmzQGoW7cuDz30EBdccAHZ2dmUKFGCQYMGUa1atd1et3z58vTo0YMGDRpQvXr1XUNDAK+88go9evTgyCOP5JxzzuGoo44C4Prrr2fZsmU0btwYd6dSpUqMHTt2t9dt3LgxnTt35tRTT6VatWq0bNlyj39TZmYmHTp02PUXxpNPPglAly5d6NGjB8888wyjR4/mwQcf5PTTT6datWo0aNBgt18KeztX6enpNG3alMMPP5x27drxyCOPMHz4cHr16sVDDz1EVlYWXbp0oVGjRvTu3ZvFixfj7px//vk0atQo/2+MSIJs3QrXXQd//zscfzzUrw8lSoRpmMn+kbV9DSEki6ZNm3rujVgWLFjAKTsHzVLExo0bKVOmDACPPvooK1as4Omnn444qmik4vsv0di+Hd5/H957LyT2Y4+FI4+EV1+FhQvhkUfgrrvgsCQsgGNms929ae7j6vEXIuPHj6d///5s376datWqMXTo0KhDEimS5s8P0zB/+CFMxVyyBCpUgGLFYO3acIG2SRN4913IY55E0lPiL0Q6d+6865qBiBSMdevgrbfCYqlixUJv/vPP//t4gwbwzjshwRcvHhZYrV0Lxx2XHBdqD0ahTvx5zRaRoq8wDE9K8vriC1i8OPTqJ06EtLRwkbZ589Cr/+knGDgQGjcOib1Vq/ALYadSpcKYfmFWaBN/qVKlWLt2rUozpxiP1eMvVapU1KFIITN3LtxzD8SWv1CsWEj299wD7dqF+6mSSgpt4q9SpQoZGRmsXr066lAkwXbuwCWSHz/+CF26wCefQNmyYX59hw6h1x6bK5FyCm3iL1GihHZgEpF9+u47aNMmXKh98km45ho4+uioo4peoU38IiI7ucM//gFDhoRpleXKwbZtYVinTBmYNCkM5UigxC8ihc4vv8D06TBqVKiJs3Ej/Por1KgBFSvC99+H2Td//SvcdhuccELUEScXJX4RKRQ2bIDeveGjj2DZsnDsqKPCNMtKleC00+Cqq3afgSN5U+IXkaQ3cyb88Y+wdGmoi9O9O5x9NrRoEaZXyoFR4heRpJKdHcbmFy4Mm5IsXRpWyB53HEyZEubVy6FR4heRyGRkhG0Hf/kFqlQJs3BefDEsqgI44gj4zW/g1ltD6YSyZSMMtghR4heRhHKHYcPC9Mqvvtrz8apV4fXXw5DOkUcmPr5UoMQvIgmzfDncfnuojdOkCTz+eBinP/roUBCtRg048cTUWUEbFSV+EYm7+fNh8GB4+WXIyoKHHoI+fXafgaMq24mjxC8icTVkCPzpT6Gy5VVXwX33Qc2aUUeV2pT4ReSQzZwZZt9s2ADDh8OOHWG65YYNoaffrh0MHRrm20v0lPhF5KBs2xaS/ZAh4ULtTiefHEomPP542LGqUyd4803Nt08mSvwicsAmTIBu3cI8ewilEXr1CvdPOSVcnM3OTs7tCAXi9raY2atmtsrM5uU4NtDMFprZV2Y2xszKx6t9ESl4W7eGOfUXXhiGbV5/PUzJfPZZqFs3fO2ckaOkn7zi+dYMBdrmOjYRqO/uDYFvgbvj2L6IFIBt28L4/GWXQe3a8NRTcOONMGtWKKPQoEHUEcqBittQj7t/bGbVcx37KMe3M4DL49W+iBwc97Dn7AcfwIwZ8OWXYY/ZmjVDIbQXXggXa6XwinKM/zpg5N4eNLOeQE+AqlWrJiomkZQ2a1aYXz91ahiqOe20UP3yyivDhiZaWFU0RJL4zawvsB0YvrfnuPsQYAhA06ZNtbu2SAHbti2soM3IgJ9/hgULYPz4MHb/zDNht6qjjoo6SomHhCd+M+sKtAfOd3cldJEIZGbC5ZeH2vYQiqFVrBgWV91+u4qhFXUJTfxm1ha4C/idu29OZNsiEqZYjhoF994b5uC/9BJcfbXm2KeaeE7nHAF8DtQxswwz6w48B5QFJppZupkNjlf7IvJf2dmhpn3jxtClC5QsCR9+CNdfr6SfiuI5q+eqPA6/Eq/2RGR3mZlh6uVXX8HXX8OiRaHy5d//Dp07a559KtPKXZEiZNWqUB7hyy9h0iT46SeoUwcqV4Z+/cLsnOL6X5/y9BEQKcQmT4YRI8L9RYtCsbSsLDjhhDCsc++9od69SE5K/CKF0IoV8Nxz0L9/mHJZqlRYYHXLLXDttaptL/umxC9SSGzbBm+8EcoeT5sWVthec01YSVu6dNTRSWGixC9SCMyYEXryCxeGMft+/cIFWvXs5WAo8YskuYULoW1bqFABxo2D9u1VOkEOjRK/SBJbsQIuvhgOPzzUz6lePeqIpChQ4hdJUkuXwgUXhCmZEycq6UvB0RIOkSSzfHnYnPyUU0I55EmT4Iwzoo5KihIlfpEkkZUFjzwCJ50Er74aLuamp2sevhQ8DfWIJIHvvgs1dGbPDjtdDRwItWpFHZUUVUr8IhH76KP/1s4ZPRo6dYo6IinqlPhFIrBhQ7hoO24c3HUX1KsXqmfWqBF1ZJIKlPhFEigrK6y0veeeUD0ToGNHGDYMypSJNjZJHUr8IgmQnQ2PPx7KJK9YEaZp/vGPcPTRYXGWSiRLIinxi8TZ5s1hhs7bb4eE/9JL0K6dVt9KdJT4ReJk/Xp48kkYNAjWrIEBA+COO5TwJXpK/CJx8Pbb0KsXrFsXSi707g0tW0YdlUigxC9SQDIzYdYsSEuDu+8OC68GDYLTTos6MpHdKfGLFICJE+G66yAjI3x/0UUwahQccUS0cYnkRXMJRA7B5s1w443hom2ZMvDeezBnTpiTr6QvySpuid/MXjWzVWY2L8exo81sopktjt1WiFf7IvHkHube16kTtkC89daQ8Nu3D0M7xYpFHaHI3sWzxz8UaJvrWB9gsrufBEyOfS9SqGzdCt26ha/KlWH6dHjiCfXwpfCIW+J394+BdbkOdwCGxe4PAy6NV/si8bBmDfz+9/D66/B//wczZ8LZZ0cdlciBSfTF3d+4+woAd19hZsfu7Ylm1hPoCVC1atUEhSeyd1OmQM+e4QLuiBGhmqZIYZS0s3rcfQgwBKBp06YecTiSgtavhzFjYPz4sO/tvHlQrVrYAlEbo0hhluhZPSvNrDJA7HZVgtsX2a/09FA47dhjQ6mFmTNDwv/b38IvACV9KewS3eMfB3QFHo3dvpvg9kXy5B4u0r71FgwZAuXLh5W3V10FzZurzIIULXFL/GY2AjgHqGhmGcB9hIT/tpl1B/4DXBGv9kXya+VK6NoVPvwQSpYMC7EefTRUzhQpiuKW+N39qr08dH682hQ5UBMnhvLI69fD00+HoZ2yZaOOSiS+tHJXUlJWVtj56oIL4Jhj4Isv4KablPQlNSjxS0pxh/ffDwXUBgyAG24ISb9+/agjE0kcJX5JGePGQZMmoYDamjVhY/PBg6F06agjE0ksJX5JCY89Bh06wMaN8Npr8N130KlT1FGJRCNpF3CJFJQHH4R+/cLUzNdfh+L61EuKU49fiqzsbOjbNyT9rl3hjTeU9EVAPX4por75Bv76V5g2Da6/Hl58EQ5TN0cEUI9fipiMDDj//DBLZ84cePnlsBJXSV/kv9TjlyIhOzvU2Ln88jBj59FHwwrcSpWijkwk+SjxS6G2dWtYcfvoo/Dzz1ChAkyeDM2aRR2ZSPJS4pdCJTsbZsyAsWNDbZ2FC2HbtjA3v1MnaNMGjjsu6ihFktsBJ/7YPrknuPtXcYhHZA9bt4Ya+GPGhE3MV66EEiXgd78Lib5tWzjvvKijFCk88pX4zWwacEns+enAajP7l7vfFr/QJNVt3w4DB4ZhnA0boEwZaNcOLr003B51VNQRihRO+e3xH+XuG8zseuA1d7/PzNTjl7iZPz9sZv7FF2HFbc+eoVdfqlTUkYkUfvlN/MVjO2ZdCfSNYzyS4jZvDsXT+veHcuVg5Ei48sqooxIpWvKb+B8APgQ+dfcvzKwmsDh+YUmq2bIlFEwbOBCWLw8bmT/9dNj+UEQKVr4Sv7uPAkbl+H4poBJXUiC2b4fLLoMJE8IF25Ej4eyzo45KpOjK13pGM6ttZpPNbF7s+4Zmdk98Q5NUsHVrKK0wYULo8U+bpqQvEm/5Xcj+EnA3kAUQm8rZJV5BSdHnHoqm1aoV6ujceWfYFEVE4i+/Y/yl3X2WmeU8tj0O8UgRtm0bPPwwTJ8eevqffQbNm4f6+K1bRx2dSOrIb+JfY2a1AAcws8uBFXGLSoqcH3+E9u1DPZ3GjcMvgb/9DW6+GYoVizo6kdSS38T/F2AIcLKZ/Qh8D1wdt6ikSPnxRzj3XPjpp7Dy9pJLoo5IJLXld1bPUqC1mR0JHObumYfSqJndClxP+Avia+Bad99yKK8pyWnMGOjVK8zPnzABzjwz6ohEJL+zeh4xs/LuvsndM82sgpk9dDANmtnxwE1AU3evDxRDF4qLpCefhI4doXJl+OQTJX2RZJHfWT0XuvsvO79x95+BdofQbnHgCDMrDpQGlh/Ca0kSWbs2bHxy001w222hYuasWdCwYdSRichO+R3jL2ZmJd19K4CZHQGUPJgG3f1HM3sc+A/wK/CRu3+U+3lm1hPoCVC1atWDaUoS6KefwsXaF16ATZvALPT2hw8PlTRFJHnkt8f/JjDZzLqb2XXARGDYwTQYK+vcAagBHAccaWZ7XCh29yHu3tTdm1bSNkpJKz09FFOrXh2eeCIUVEtPD7N23nkHSh5U90BE4im/F3cHmNnXwPmAAQ+6+4cH2WZr4Ht3Xw1gZv8AziT8cpFC5L33wlaHhx8ekv/tt8NJJ0UdlYjsT743YnH3D4APCqDN/wAtzKw0YajnfCCtAF5XEuj116F7dzjtNPjgAzjmmKgjEpH8yu+sno5mttjM1pvZBjPLNLMNB9Ogu88ERgNzCFM5DyOsEZBCYPv20LPv2hVatYJJk5T0RQqb/Pb4BwAXu/uCgmjU3e8D7iuI15LEWbEiJPyJE8Osnb/9DYpr12aRQie/F3dXFlTSl8Ln++/h+uvDBdxp0+Dll0OtfCV9kcIpv/9108xsJDAW2LrzoLv/Ix5BSXLIyAhF1V5+OdTT6d49zM0/8cSoIxORQ5HfxF8O2AxckOOYA0r8RdTcudCyZdgZq0cP6NsXjj8+6qhEpCDkdzrntfEORJLHqlWhkFq5cjBnjnr4IkVNvhK/mZUCugP1gFI7j7v7dXGKSyKyaFFI+qtXh/o6SvoiRU9+L+6+AfwWaAP8C6gCHFKFTkk+S5ZAixawbh18+GGomy8iRU9+E/+J7n4vsMndhwEXAQ3iF5Yk2vbtcHWscMbMmWF8X0SKpvxe3M2K3f5iZvWBn4DqcYlIEm7rVrjlFpgxA0aMgJo1o45IROIpv4l/SKy42j3AOKAMcG/copKEWbMm7Hc7d26YqtlFOyOIFHn5TfyTYzX4PwZqAphZjbhFJQnhHoqrLVgA48bBxRdHHZGIJEJ+x/jfyePY6IIMRBJryxbo0wfGjw+lF5T0RVLHPnv8ZnYyYQrnUWbWMcdD5cgxrVMKl6lT4brrYNmyUHvnL3+JOiIRSaT9DfXUAdoD5YGcfcJMoEecYpI4cYcHH4T774fatWHyZDjvvKijEpFE22fid/d3gXfN7Ax3/zxBMUkcbNkCf/4zvPYa/PGPYYvEI4+MOioRiUJ+x/gvM7NyZlbCzCab2Zq8tkuU5DR6NNSpE5L+fffBsGFK+iKpLL+J/wJ330AY9skAagO94xaVFIhNm6BXL7jiCqhYEaZMCcM8ZlFHJiJRym/iLxG7bQeMcPd1cYpHCsirr0KtWjB4MPTuHVbjnntu1FGJSDLIb+J/z8wWAk2ByWZWCdgSv7DkYLmHEsrdu4eNzz/5BAYM0KYpIvJf+S3L3MfMHgM2uPsOM9sEdIhvaHKgduwIUzNffBF69oTnnw8bqIiI5LS/efznufuUnHP4bfcBYm3EkiSys8NsnREj4O67w85ZGssXkbzsr8ffCphCmMPvgOW6VeJPEvfeG5L+I4+ExC8isjf7S/yZZnYbMI//Jnxi9w+amZUHXgbqx17rOq0TODibNkH//iHh9+gRyjCIiOzL/hJ/mdhtHaAZ8C4h+V9MKNh2sJ4GJrj75WZ2OFD6EF4rZU2YEJJ9Rgb8z//Ac89peEdE9m9/K3f/D8DMPgIau3tm7Pv7gVEH06CZlSMMIXWLtbEN2HYwr5Wq1qyBO+4IC7FOOQWmT4ezz446KhEpLPI7nbMquyfnbRz8Riw1gdXAa2b2pZm9bGZ7rCM1s55mlmZmaatXrz7IpooWdxg6FE4+GYYPD2P5c+Yo6YvIgTmQPXdnmdn9ZnYfMBMYdpBtFgcaAy+4+2nAJmCPkWl3H+LuTd29aaVKlQ6yqaJj2zbo3BmuvTYk/i+/DOP6pVQjVUQOUL4Sv7s/DFwL/Az8Alzr7v0Pss0MIMPdZ8a+H034RSB7sW0bXH45jBoFjz4KH38M9etHHZWIFFb5Xs/p7nOAOYfaoLv/ZGY/mFkdd18EnA/MP9TXLaqys0Pt/PfeCwuyevWKOiIRKeyiWsh/IzA8NqNnKeGvCcllzRq49dYwnv/ww0r6IlIwIkn87p5OqPsjedixA156Cf73f2HDBujXT4uyRKTgqHRXktmyBS69FD78EM45J8zNr1cv6qhEpCjJ76weSYANG8LMnQ8/DOP5U6Yo6YtIwVPiTwLu8OyzUL06jBsHgwaF8XytwhWReFDij1hWViihfNNN0KwZpKWFvXFFROJFY/wRysqCP/wh7Inbty888AAcpl/FIhJnSvwRyZn0n3giTNsUEUkE9S8joKQvIlFS4k8wd7jxRiV9EYmOEn+CPf982BO3Tx8lfRGJhhJ/Ai1aBLfdBu3bhxIMIiJRUOJPEHf405/giCNCOQbN3hGRqGhWTwJkZYWhnWnTYPBg+O1vo45IRFKZEn+cbdwI7dqF7RFvuCHskSsiEiUl/jjaujUUXPvss1Ba+Q9/iDoiERGN8cfN6tXQpg1MngyvvaakLyLJQz3+OFi+HFq2DLfq6YtIslHiL2C//AJt28KqVTB1KrRoEXVEIiK7U+IvQDs3UVm4EMaPV9IXkeSkxF9ANm6Ea66Bf/0L/v53+P3vo45IRCRvSvwF4NNP4aqrICMDnnoq3BcRSVZK/Ifo229DCYaKFeGTT+DMM6OOSERk3yJL/GZWDEgDfnT39lHFcSh+/hkuvhiKF4eJE8PWiSIiyS7KHv/NwAKgXIQxHLSsLLjySvj++7ApupK+iBQWkSzgMrMqwEXAy1G0XxBuvRUmTQolls8+O+poRETyL6qVu08BdwLZe3uCmfU0szQzS1u9enXCAsuPF16AQYPg9tvh2mujjkZE5MAkPPGbWXtglbvP3tfz3H2Iuzd196aVKlVKUHT7N3162EHroovgsceijkZE5MBF0eM/C7jEzJYBbwHnmdmbEcRxwFauhM6doWbNMFe/WLGoIxIROXAJT/zufre7V3H36kAXYIq7X53oOA7Uhg1hVe7PP4f9cssVykvSIiKax58vmzfDhRdCWhqMHAkNG0YdkYjIwYs08bv7NGBalDHkx8CBoab+qFHQsWPU0YiIHBrV49+P5cthwAC44gq4/PKooxEROXRK/PvRt29YrNW/f9SRiIgUDCX+fZgyBYYOhdtug1q1oo5GRKRgKPHvxebNYWP0E0+E++6LOhoRkYKjWT178dJLsHRp6PUfcUTU0YiIFBz1+POwYwc8+2wosXzuuVFHIyJSsJT48/D++7BkCdx8c9SRiIgUPCX+XNzDvP0qVeCyy6KORkSk4GmMP5fXXw+F2J5/HkqUiDoaEZGCpx5/DqtWhambZ54JN9wQdTQiIvGhxJ/DrbdCZmaY0XOYzoyIFFFKbzETJoRSy3ffDXXrRh2NiEj8KPEDmzZBr15w8snwv/8bdTQiIvGli7tAv36wbFm4qFuyZNTRiIjEV8r3+NPS4KmnwsVcbZouIqkgpRN/Vlaox/Ob32j/XBFJHSk91PPkk5CeDu+8A0cdFXU0IiKJkbI9/rVr4YEHoEMH7aolIqklZRP/4MFhNs9DD0UdiYhIYqVk4t+yJVTfbNsW6tePOhoRkcRKycT/5puwciX07h11JCIiiZdyiT87Gx5/HE47TbX2RSQ1JTzxm9kJZjbVzBaY2TdmltCq9+PHw6JFobdvlsiWRUSSQxTTObcDt7v7HDMrC8w2s4nuPj8RjQ8cCFWrwhVXJKI1EZHkk/Aev7uvcPc5sfuZwALg+ES0PX9+KMtw001QPKVXMIhIKot0jN/MqgOnATPzeKynmaWZWdrq1asLpL033oBixeDqqwvk5URECqXIEr+ZlQHeAW5x9w25H3f3Ie7e1N2bVqpU6ZDby84Os3natAklGkREUlUkid/MShCS/nB3/0ci2pw2DTIy4JprEtGaiEjyimJWjwGvAAvc/YlEtTtyJJQpA5dckqgWRUSSUxQ9/rOAPwLnmVl67KtdPBt0h3/+MwzzHHFEPFsSEUl+CZ/b4u6fAAmdQZ+eDsuXQ/v2iWxVRCQ5pcTK3X/+MyzWuvDCqCMREYleyiT+5s01m0dEBFIg8a9dC198ARddFHUkIiLJocgn/k8+CRd3VZBNRCQo8on/44+hZElo1izqSEREkkORT/zTp4fx/ZIlo45ERCQ5FOnEv3EjzJkDrVpFHYmISPIo0ol/xgzYsQNatow6EhGR5FGkE//06XDYYXDGGVFHIiKSPIp04q9aFbp1g3Lloo5ERCR5FOnE3707vPJK1FGIiCSXIp34RURkT0r8IiIpRolfRCTFKPGLiKQYJX4RkRSjxC8ikmKU+EVEUowSv4hIijF3jzqG/TKz1cC/D/LHKwJrCjCcgpKscUHyxqa4DkyyxgXJG1tRi6uau1fKfbBQJP5DYWZp7t406jhyS9a4IHljU1wHJlnjguSNLVXi0lCPiEiKUeIXEUkxqZD4h0QdwF4ka1yQvLEprgOTrHFB8saWEnEV+TF+ERHZXSr0+EVEJAclfhGRFFOkE7+ZtTWzRWb2nZn1iTCOE8xsqpktMLNvzOzm2PH7zexHM0uPfbWLILZlZvZ1rP202LGjzWyimS2O3VZIcEx1cpyTdDPbYGa3RHW+zOxVM1tlZvNyHNvrOTKzu2OfuUVm1ibBcQ00s4Vm9pWZjTGz8rHj1c3s1xznbnCC49rrexfx+RqZI6ZlZpYeO57I87W3/BC/z5i7F8kvoBiwBKgJHA7MBepGFEtloHHsflngW6AucD9wR8TnaRlQMdexAUCf2P0+wGMRv48/AdWiOl9AK6AxMG9/5yj2vs4FSgI1Yp/BYgmM6wKgeOz+Yzniqp7zeRGcrzzfu6jPV67H/wb0i+B87S0/xO0zVpR7/M2B79x9qbtvA94COkQRiLuvcPc5sfuZwALg+ChiyacOwLDY/WHApdGFwvnAEnc/2JXbh8zdPwbW5Tq8t3PUAXjL3be6+/fAd4TPYkLicveP3H177NsZQJV4tH2gce1DpOdrJzMz4EpgRDza3pd95Ie4fcaKcuI/Hvghx/cZJEGyNbPqwGnAzNihv8b+LH810UMqMQ58ZGazzaxn7Nhv3H0FhA8lcGwEce3Uhd3/M0Z9vnba2zlKps/ddcAHOb6vYWZfmtm/zKxlBPHk9d4ly/lqCax098U5jiX8fOXKD3H7jBXlxG95HIt07qqZlQHeAW5x9w3AC0At4FRgBeFPzUQ7y90bAxcCfzGzVhHEkCczOxy4BBgVO5QM52t/kuJzZ2Z9ge3A8NihFUBVdz8NuA34u5mVS2BIe3vvkuJ8AVexewcj4ecrj/yw16fmceyAzllRTvwZwAk5vq8CLI8oFsysBOFNHe7u/wBw95XuvsPds4GXiNOfuPvi7stjt6uAMbEYVppZ5VjclYFViY4r5kJgjruvjMUY+fnKYW/nKPLPnZl1BdoD/+OxQeHYsMDa2P3ZhHHh2omKaR/vXTKcr+JAR2DkzmOJPl955Qfi+Bkryon/C+AkM6sR6zl2AcZFEUhs/PAVYIG7P5HjeOUcT7sMmJf7Z+Mc15FmVnbnfcKFwXmE89Q19rSuwLuJjCuH3XphUZ+vXPZ2jsYBXcyspJnVAE4CZiUqKDNrC9wFXOLum3Mcr2RmxWL3a8biWprAuPb23kV6vmJaAwvdPWPngUSer73lB+L5GUvEVeuovoB2hCvkS4C+EcZxNuFPsa+A9NhXO+AN4OvY8XFA5QTHVZMwO2Au8M3OcwQcA0wGFsduj47gnJUG1gJH5TgWyfki/PJZAWQRelvd93WOgL6xz9wi4MIEx/UdYfx35+dscOy5nWLv8VxgDnBxguPa63sX5fmKHR8K/CnXcxN5vvaWH+L2GVPJBhGRFFOUh3pERCQPSvwiIilGiV9EJMUo8YuIpBglfhGRFKPEL7IfFiqDlo46DpGCoumcIvthZsuApu6+JupYRAqCevwiOcRWM483s7lmNs/M7gOOA6aa2dTYcy4ws8/NbI6ZjYrVWNm5t8FjZjYr9nVi7PgVsdeaa2YfR/evEwmU+EV21xZY7u6N3L0+8BShDsq57n6umVUE7gFaeyhul0Yo4rXTBndvDjwX+1mAfkAbd29EKDonEiklfpHdfQ20jvXcW7r7+lyPtyBshPFpbLemroRNYnYakeP2jNj9T4GhZtaDsLGMSKSKRx2ASDJx92/NrAmhVkp/M/so11MMmOjuV+3tJXLfd/c/mdnpwEVAupmd6rHKjyJRUI9fJAczOw7Y7O5vAo8TturLJGyJB2FXq7NyjN+XNrOc5Xo757j9PPacWu4+0937AWvYvaSuSMKpxy+yuwbAQDPLJlRx7EUYsvnAzFbExvm7ASPMrGTsZ+4hVIEFKGlmMwmdqp1/FQw0s5MIfy1MJlR8FImMpnOKFBBN+5TCQkM9IiIpRj1+EZEUox6/iEiKUeIXEUkxSvwiIilGiV9EJMUo8YuIpJj/B3NodZd6pZPoAAAAAElFTkSuQmCC\n",
      "text/plain": [
       "<Figure size 432x288 with 1 Axes>"
      ]
     },
     "metadata": {
      "needs_background": "light"
     },
     "output_type": "display_data"
    },
    {
     "name": "stdout",
     "output_type": "stream",
     "text": [
      "Average distances:\n"
     ]
    },
    {
     "data": {
      "image/png": "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\n",
      "text/plain": [
       "<Figure size 432x288 with 1 Axes>"
      ]
     },
     "metadata": {
      "needs_background": "light"
     },
     "output_type": "display_data"
    }
   ],
   "source": [
    "# initial data\n",
    "walkers = 1000\n",
    "steps = 200\n",
    "np.random.seed(42)\n",
    "\n",
    "# random walk matrix\n",
    "rw = npr.randint(2,size=(walkers,steps))\n",
    "rw[rw == 0] = -1\n",
    "print(\"Random walk matrix: \\n\\n\", rw,\"\\n\\n\")\n",
    "\n",
    "# computing distances at each step\n",
    "distances = np.copy(rw)\n",
    "for i in range(walkers):\n",
    "    for j in range(1,steps):\n",
    "        distances[i,j] += distances[i,j-1]\n",
    "print(\"The distances at each step for all the walkers are:\\n\\n\", distances, \"\\n\\n\")\n",
    "\n",
    "# squared distances\n",
    "squared_dist = np.square(distances)\n",
    "print(\"The squared distances at each step for all the walkers are:\\n\\n\", squared_dist, \"\\n\\n\")\n",
    "\n",
    "# mean of square distances\n",
    "mean_sq = np.mean(squared_dist, axis=0)\n",
    "print(\"The mean of square distances of each step is:\\n\\n\", mean_sq, \"\\n\\n\")\n",
    "\n",
    "# average distances plot\n",
    "avg_dist = np.sqrt(mean_sq)\n",
    "fig, ax = plt.subplots()\n",
    "ax.plot(range(steps), avg_dist, 'b-')\n",
    "plt.xlabel(\"steps\")\n",
    "plt.ylabel(\"distances\")\n",
    "ax.legend([\"average distances\"])\n",
    "print(\"Average distances using the procedure assigmented:\")\n",
    "plt.show()\n",
    "\n",
    "\n",
    "avg_walk = np.mean(rw, axis=0)\n",
    "tmp = 0\n",
    "mydist = []\n",
    "for i in avg_walk:\n",
    "    tmp += i\n",
    "    mydist.append(tmp)\n",
    "    \n",
    "plt.plot(np.arange(steps), mydist)\n",
    "plt.xlabel(\"steps\")\n",
    "plt.ylabel(\"distances\")\n",
    "plt.legend([\"average distances\"])\n",
    "print(\"Average distances:\")\n",
    "plt.show()"
   ]
  },
  {
   "cell_type": "code",
=======
>>>>>>> upstream/main
   "execution_count": null,
   "metadata": {},
   "outputs": [],
   "source": []
  }
 ],
 "metadata": {
  "kernelspec": {
   "display_name": "Python 3 (ipykernel)",
   "language": "python",
   "name": "python3"
  },
  "language_info": {
   "codemirror_mode": {
    "name": "ipython",
    "version": 3
   },
   "file_extension": ".py",
   "mimetype": "text/x-python",
   "name": "python",
   "nbconvert_exporter": "python",
   "pygments_lexer": "ipython3",
<<<<<<< HEAD
   "version": "3.9.7"
  },
  "vscode": {
   "interpreter": {
    "hash": "d28f11b45618a7bd5a6e1d0e55704f4699015ab89f0f7c3e2b8a8e0497fed2b0"
   }
=======
   "version": "3.10.12"
>>>>>>> upstream/main
  }
 },
 "nbformat": 4,
 "nbformat_minor": 2
}
